{
  "nbformat": 4,
  "nbformat_minor": 0,
  "metadata": {
    "colab": {
      "name": "TYY TF2 - Toxic Words Text Classification Challenge.ipynb",
      "provenance": [],
      "include_colab_link": true
    },
    "kernelspec": {
      "name": "python3",
      "display_name": "Python 3"
    }
  },
  "cells": [
    {
      "cell_type": "markdown",
      "metadata": {
        "id": "view-in-github",
        "colab_type": "text"
      },
      "source": [
        "<a href=\"https://colab.research.google.com/github/tohyongyao/AI-Project/blob/master/TYY_TF2_Toxic_Words_Text_Classification_Challenge.ipynb\" target=\"_parent\"><img src=\"https://colab.research.google.com/assets/colab-badge.svg\" alt=\"Open In Colab\"/></a>"
      ]
    },
    {
      "cell_type": "markdown",
      "metadata": {
        "id": "jvWqxO8d43Xc",
        "colab_type": "text"
      },
      "source": [
        "Toxic words text classifier"
      ]
    },
    {
      "cell_type": "code",
      "metadata": {
        "id": "KHRvF17C7vjB",
        "colab_type": "code",
        "colab": {}
      },
      "source": [
        "%tensorflow_version 2.x"
      ],
      "execution_count": null,
      "outputs": []
    },
    {
      "cell_type": "code",
      "metadata": {
        "id": "1z4F4sMSqmdQ",
        "colab_type": "code",
        "colab": {
          "base_uri": "https://localhost:8080/",
          "height": 136
        },
        "outputId": "047a950c-4391-40cf-c0c1-9f2b19b4b421"
      },
      "source": [
        "!wget -qq https://www.dropbox.com/s/fz2d61pwgigtra7/toxic_words.zip\n",
        "!unzip toxic_words.zip\n",
        "\n",
        "!ls"
      ],
      "execution_count": null,
      "outputs": [
        {
          "output_type": "stream",
          "text": [
            "Archive:  toxic_words.zip\n",
            "  inflating: test_labels.csv         \n",
            "  inflating: sample_submission.csv   \n",
            "  inflating: test.csv                \n",
            "  inflating: train.csv               \n",
            "sample_data\t       test.csv\t\ttoxic_words.zip\n",
            "sample_submission.csv  test_labels.csv\ttrain.csv\n"
          ],
          "name": "stdout"
        }
      ]
    },
    {
      "cell_type": "code",
      "metadata": {
        "id": "hxsPFuahqc0e",
        "colab_type": "code",
        "colab": {}
      },
      "source": [
        "%matplotlib inline\n",
        "import matplotlib.pyplot as plt\n",
        "plt.style.use(\"ggplot\")\n",
        "\n",
        "import pandas as pd\n",
        "import numpy as np\n",
        "\n",
        "import tensorflow as tf\n",
        "\n",
        "from tensorflow.keras.preprocessing import sequence\n",
        "from tensorflow.keras.preprocessing.text import Tokenizer\n",
        "\n",
        "from tensorflow.keras.optimizers import Adam\n",
        "\n",
        "from tensorflow.keras.models import Model\n",
        "from tensorflow.keras.layers import Dense, Embedding, GlobalMaxPooling1D, Input, Dropout"
      ],
      "execution_count": null,
      "outputs": []
    },
    {
      "cell_type": "code",
      "metadata": {
        "id": "y_SoKN-sqpyQ",
        "colab_type": "code",
        "colab": {}
      },
      "source": [
        "train_df = pd.read_csv(\"./train.csv\").fillna(\"blank\")\n",
        "test_df = pd.read_csv(\"./test.csv\").fillna(\"blank\")"
      ],
      "execution_count": null,
      "outputs": []
    },
    {
      "cell_type": "code",
      "metadata": {
        "id": "U0vrKmqKqy_j",
        "colab_type": "code",
        "colab": {}
      },
      "source": [
        "MAX_SEQUENCE_LENGTH = 100\n",
        "MAX_NUM_WORDS = 20000\n",
        "EMBEDDING_DIM = 30\n",
        "BATCH_SIZE = 64"
      ],
      "execution_count": null,
      "outputs": []
    },
    {
      "cell_type": "code",
      "metadata": {
        "id": "xdaB2sdPqp2k",
        "colab_type": "code",
        "colab": {}
      },
      "source": [
        "x_train = train_df[\"comment_text\"].values\n",
        "y_train = train_df[[\"toxic\", \"severe_toxic\", \"obscene\", \"threat\", \"insult\", \"identity_hate\"]].values\n",
        "x_test = test_df[\"comment_text\"].values"
      ],
      "execution_count": null,
      "outputs": []
    },
    {
      "cell_type": "markdown",
      "metadata": {
        "id": "3Ts7L8Ll-Bvl",
        "colab_type": "text"
      },
      "source": [
        "Tokenize the words"
      ]
    },
    {
      "cell_type": "code",
      "metadata": {
        "id": "Bc8eGDclqp6L",
        "colab_type": "code",
        "colab": {}
      },
      "source": [
        "tokenizer = Tokenizer(num_words=MAX_NUM_WORDS)\n",
        "tokenizer.fit_on_texts(list(x_train) + list(x_test))\n",
        "x_train = tokenizer.texts_to_sequences(x_train)\n",
        "x_test = tokenizer.texts_to_sequences(x_test)\n"
      ],
      "execution_count": null,
      "outputs": []
    },
    {
      "cell_type": "markdown",
      "metadata": {
        "id": "suqf1dj6fPxK",
        "colab_type": "text"
      },
      "source": [
        "Padding the sequence"
      ]
    },
    {
      "cell_type": "code",
      "metadata": {
        "id": "EC0ijuTUfRE3",
        "colab_type": "code",
        "colab": {}
      },
      "source": [
        "x_train = sequence.pad_sequences(x_train, maxlen=MAX_SEQUENCE_LENGTH,padding=\"post\")\n",
        "x_test = sequence.pad_sequences(x_test, maxlen=MAX_SEQUENCE_LENGTH,padding=\"post\")"
      ],
      "execution_count": null,
      "outputs": []
    },
    {
      "cell_type": "code",
      "metadata": {
        "id": "XYX-DwMf6O7b",
        "colab_type": "code",
        "colab": {
          "base_uri": "https://localhost:8080/",
          "height": 51
        },
        "outputId": "88ae2040-789c-4962-8197-cf1baf51b32b"
      },
      "source": [
        "print(x_train.shape)\n",
        "print(len(x_test))"
      ],
      "execution_count": null,
      "outputs": [
        {
          "output_type": "stream",
          "text": [
            "(159571, 100)\n",
            "153164\n"
          ],
          "name": "stdout"
        }
      ]
    },
    {
      "cell_type": "markdown",
      "metadata": {
        "id": "B_G1DKnv-Rzz",
        "colab_type": "text"
      },
      "source": [
        "Embedding"
      ]
    },
    {
      "cell_type": "code",
      "metadata": {
        "id": "FOXhkumQ23H9",
        "colab_type": "code",
        "colab": {}
      },
      "source": [
        "Inp = Input((MAX_SEQUENCE_LENGTH,))\n",
        "\n",
        "embedding = Embedding(MAX_NUM_WORDS, EMBEDDING_DIM, input_length=MAX_SEQUENCE_LENGTH, embeddings_initializer=\"uniform\")(Inp)\n",
        "x = GlobalMaxPooling1D()(embedding)\n",
        "x = Dropout(0.2)(x)\n",
        "\n",
        "out = Dense(6, activation='sigmoid')(x) #use sigmoid for multiple class"
      ],
      "execution_count": null,
      "outputs": []
    },
    {
      "cell_type": "markdown",
      "metadata": {
        "id": "QvOIRoy53ZtC",
        "colab_type": "text"
      },
      "source": [
        "Model"
      ]
    },
    {
      "cell_type": "code",
      "metadata": {
        "id": "vvZPohmB3ZWj",
        "colab_type": "code",
        "colab": {
          "base_uri": "https://localhost:8080/",
          "height": 324
        },
        "outputId": "b7f1bd0c-19da-48c4-9f6f-eaf2e76c846e"
      },
      "source": [
        "model = Model(inputs=Inp, outputs=out)\n",
        "model.compile(loss='binary_crossentropy',\n",
        "              optimizer=Adam(0.01),\n",
        "              metrics=['accuracy'])\n",
        "model.summary()"
      ],
      "execution_count": null,
      "outputs": [
        {
          "output_type": "stream",
          "text": [
            "Model: \"functional_1\"\n",
            "_________________________________________________________________\n",
            "Layer (type)                 Output Shape              Param #   \n",
            "=================================================================\n",
            "input_1 (InputLayer)         [(None, 100)]             0         \n",
            "_________________________________________________________________\n",
            "embedding (Embedding)        (None, 100, 30)           600000    \n",
            "_________________________________________________________________\n",
            "global_max_pooling1d (Global (None, 30)                0         \n",
            "_________________________________________________________________\n",
            "dropout (Dropout)            (None, 30)                0         \n",
            "_________________________________________________________________\n",
            "dense (Dense)                (None, 6)                 186       \n",
            "=================================================================\n",
            "Total params: 600,186\n",
            "Trainable params: 600,186\n",
            "Non-trainable params: 0\n",
            "_________________________________________________________________\n"
          ],
          "name": "stdout"
        }
      ]
    },
    {
      "cell_type": "code",
      "metadata": {
        "id": "K9du5ADS7HFT",
        "colab_type": "code",
        "colab": {
          "base_uri": "https://localhost:8080/",
          "height": 51
        },
        "outputId": "f9a96421-e676-4883-8640-8d3d75f13363"
      },
      "source": [
        "print(x_train.shape)\n",
        "print(y_train.shape)"
      ],
      "execution_count": null,
      "outputs": [
        {
          "output_type": "stream",
          "text": [
            "(159571, 100)\n",
            "(159571, 6)\n"
          ],
          "name": "stdout"
        }
      ]
    },
    {
      "cell_type": "code",
      "metadata": {
        "id": "Spisxb-t3vW8",
        "colab_type": "code",
        "colab": {
          "base_uri": "https://localhost:8080/",
          "height": 187
        },
        "outputId": "35d4e085-699b-4cf6-8680-a60c7488eb56"
      },
      "source": [
        "hist = model.fit(x_train,\n",
        "                 y_train,\n",
        "                 batch_size=BATCH_SIZE,\n",
        "                 epochs=5,\n",
        "                 validation_split=0.1)\n"
      ],
      "execution_count": null,
      "outputs": [
        {
          "output_type": "stream",
          "text": [
            "Epoch 1/5\n",
            "2244/2244 [==============================] - 27s 12ms/step - loss: 0.0811 - accuracy: 0.9443 - val_loss: 0.0568 - val_accuracy: 0.8742\n",
            "Epoch 2/5\n",
            "2244/2244 [==============================] - 28s 12ms/step - loss: 0.0580 - accuracy: 0.8579 - val_loss: 0.0563 - val_accuracy: 0.9533\n",
            "Epoch 3/5\n",
            "2244/2244 [==============================] - 27s 12ms/step - loss: 0.0537 - accuracy: 0.7792 - val_loss: 0.0528 - val_accuracy: 0.6565\n",
            "Epoch 4/5\n",
            "2244/2244 [==============================] - 28s 13ms/step - loss: 0.0509 - accuracy: 0.7884 - val_loss: 0.0517 - val_accuracy: 0.9455\n",
            "Epoch 5/5\n",
            "2244/2244 [==============================] - 29s 13ms/step - loss: 0.0486 - accuracy: 0.7878 - val_loss: 0.0517 - val_accuracy: 0.9909\n"
          ],
          "name": "stdout"
        }
      ]
    },
    {
      "cell_type": "code",
      "metadata": {
        "id": "6YPT6sq-DuX5",
        "colab_type": "code",
        "colab": {}
      },
      "source": [
        ""
      ],
      "execution_count": null,
      "outputs": []
    }
  ]
}
