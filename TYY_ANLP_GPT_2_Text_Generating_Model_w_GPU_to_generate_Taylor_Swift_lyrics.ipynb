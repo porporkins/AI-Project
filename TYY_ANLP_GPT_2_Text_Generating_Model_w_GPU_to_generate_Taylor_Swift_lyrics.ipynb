{
  "nbformat": 4,
  "nbformat_minor": 0,
  "metadata": {
    "colab": {
      "name": "TYY ANLP - GPT-2 Text-Generating Model w/ GPU to generate Taylor Swift lyrics",
      "provenance": [],
      "collapsed_sections": [],
      "include_colab_link": true
    },
    "kernelspec": {
      "name": "python3",
      "display_name": "Python 3"
    },
    "accelerator": "GPU"
  },
  "cells": [
    {
      "cell_type": "markdown",
      "metadata": {
        "id": "view-in-github",
        "colab_type": "text"
      },
      "source": [
        "<a href=\"https://colab.research.google.com/github/tohyongyao/AI-Project/blob/master/TYY_ANLP_GPT_2_Text_Generating_Model_w_GPU_to_generate_Taylor_Swift_lyrics.ipynb\" target=\"_parent\"><img src=\"https://colab.research.google.com/assets/colab-badge.svg\" alt=\"Open In Colab\"/></a>"
      ]
    },
    {
      "cell_type": "markdown",
      "metadata": {
        "id": "H7LoMj4GA4n_",
        "colab_type": "text"
      },
      "source": [
        "#  Train a GPT-2 Text-Generating Model w/ GPU to generate Taylor Swift lyrics\n",
        "\n",
        "\n"
      ]
    },
    {
      "cell_type": "code",
      "metadata": {
        "id": "KBkpRgBCBS2_",
        "colab_type": "code",
        "colab": {
          "base_uri": "https://localhost:8080/",
          "height": 170
        },
        "outputId": "9f1055b7-11a0-4925-ba0a-22c2fd866a84"
      },
      "source": [
        "%tensorflow_version 1.x\n",
        "!pip install -q gpt_2_simple\n",
        "import gpt_2_simple as gpt2\n",
        "from datetime import datetime\n",
        "from google.colab import files"
      ],
      "execution_count": 1,
      "outputs": [
        {
          "output_type": "stream",
          "text": [
            "TensorFlow 1.x selected.\n",
            "WARNING:tensorflow:\n",
            "The TensorFlow contrib module will not be included in TensorFlow 2.0.\n",
            "For more information, please see:\n",
            "  * https://github.com/tensorflow/community/blob/master/rfcs/20180907-contrib-sunset.md\n",
            "  * https://github.com/tensorflow/addons\n",
            "  * https://github.com/tensorflow/io (for I/O related ops)\n",
            "If you depend on functionality not listed there, please file an issue.\n",
            "\n"
          ],
          "name": "stdout"
        }
      ]
    },
    {
      "cell_type": "code",
      "metadata": {
        "id": "Zx1g5xsdQOhh",
        "colab_type": "code",
        "colab": {
          "base_uri": "https://localhost:8080/",
          "height": 98
        },
        "outputId": "353a16a6-31d0-441f-f032-10d27a6167e9"
      },
      "source": [
        "! git clone https://github.com/mdda/colab_helper\n",
        "from colab_helper import utils as chu\n",
        "\n",
        "import pandas as pd"
      ],
      "execution_count": 2,
      "outputs": [
        {
          "output_type": "stream",
          "text": [
            "fatal: destination path 'colab_helper' already exists and is not an empty directory.\n"
          ],
          "name": "stdout"
        },
        {
          "output_type": "display_data",
          "data": {
            "image/png": "[encoded data removed]",
            "text/plain": [
              "<Figure size 432x288 with 1 Axes>"
            ]
          },
          "metadata": {
            "tags": [],
            "needs_background": "light"
          }
        }
      ]
    },
    {
      "cell_type": "markdown",
      "metadata": {
        "id": "Bj2IJLHP3KwE",
        "colab_type": "text"
      },
      "source": [
        "## Verify GPU\n",
        " "
      ]
    },
    {
      "cell_type": "code",
      "metadata": {
        "id": "6Q7pknRn8y9L",
        "colab_type": "code",
        "colab": {
          "base_uri": "https://localhost:8080/",
          "height": 358
        },
        "outputId": "9213db67-73be-4f33-86fc-f3304a64b81c"
      },
      "source": [
        "!nvidia-smi"
      ],
      "execution_count": 3,
      "outputs": [
        {
          "output_type": "stream",
          "text": [
            "Fri Sep 18 08:29:40 2020       \n",
            "+-----------------------------------------------------------------------------+\n",
            "| NVIDIA-SMI 450.66       Driver Version: 418.67       CUDA Version: 10.1     |\n",
            "|-------------------------------+----------------------+----------------------+\n",
            "| GPU  Name        Persistence-M| Bus-Id        Disp.A | Volatile Uncorr. ECC |\n",
            "| Fan  Temp  Perf  Pwr:Usage/Cap|         Memory-Usage | GPU-Util  Compute M. |\n",
            "|                               |                      |               MIG M. |\n",
            "|===============================+======================+======================|\n",
            "|   0  Tesla K80           Off  | 00000000:00:04.0 Off |                    0 |\n",
            "| N/A   35C    P8    30W / 149W |      0MiB / 11441MiB |      0%      Default |\n",
            "|                               |                      |                 ERR! |\n",
            "+-------------------------------+----------------------+----------------------+\n",
            "                                                                               \n",
            "+-----------------------------------------------------------------------------+\n",
            "| Processes:                                                                  |\n",
            "|  GPU   GI   CI        PID   Type   Process name                  GPU Memory |\n",
            "|        ID   ID                                                   Usage      |\n",
            "|=============================================================================|\n",
            "|  No running processes found                                                 |\n",
            "+-----------------------------------------------------------------------------+\n"
          ],
          "name": "stdout"
        }
      ]
    },
    {
      "cell_type": "markdown",
      "metadata": {
        "id": "0wXB05bPDYxS",
        "colab_type": "text"
      },
      "source": [
        "## Downloading GPT-2\n",
        "\n",
        "If you're retraining a model on new text, you need to download the GPT-2 model first. \n",
        "\n",
        "There are two sizes of GPT-2:\n",
        "\n",
        "* `117M` (default): the \"small\" model, 500MB on disk.\n",
        "* `345M`: the \"medium\" model, 1.5GB on disk.\n",
        "\n",
        "Larger models have more knowledge, but take longer to finetune and longer to generate text. You can specify which base model to use by changing `model_name` in the cells below.\n",
        "\n",
        "The next cell downloads it from Google Cloud Storage and saves it in the Colaboratory VM at `/models/<model_name>`.\n",
        "\n",
        "This model isn't permanently saved in the Colaboratory VM; you'll have to redownload it if you want to retrain it at a later time."
      ]
    },
    {
      "cell_type": "code",
      "metadata": {
        "id": "P8wSlgXoDPCR",
        "colab_type": "code",
        "colab": {
          "base_uri": "https://localhost:8080/",
          "height": 136
        },
        "outputId": "492e1ad8-88db-440b-f3f6-7c3ba6ea6f27"
      },
      "source": [
        "gpt2.download_gpt2(model_name=\"345M\")"
      ],
      "execution_count": 4,
      "outputs": [
        {
          "output_type": "stream",
          "text": [
            "Fetching checkpoint: 1.05Mit [00:00, 340Mit/s]                                                      \n",
            "Fetching encoder.json: 1.05Mit [00:00, 63.1Mit/s]                                                   \n",
            "Fetching hparams.json: 1.05Mit [00:00, 395Mit/s]                                                    \n",
            "Fetching model.ckpt.data-00000-of-00001: 1.42Git [00:23, 60.2Mit/s]                                 \n",
            "Fetching model.ckpt.index: 1.05Mit [00:00, 205Mit/s]                                                \n",
            "Fetching model.ckpt.meta: 1.05Mit [00:00, 31.3Mit/s]                                                \n",
            "Fetching vocab.bpe: 1.05Mit [00:00, 61.2Mit/s]                                                      \n"
          ],
          "name": "stderr"
        }
      ]
    },
    {
      "cell_type": "markdown",
      "metadata": {
        "id": "N8KXuKWzQSsN",
        "colab_type": "text"
      },
      "source": [
        "## Mounting Google Drive\n",
        "\n",
        "The best way to get input text to-be-trained into the Colaboratory VM, and to get the trained model *out* of Colaboratory, is to route it through Google Drive *first*.\n",
        "\n",
        "Running this cell (which will only work in Colaboratory) will mount your personal Google Drive in the VM, which later cells can use to get data in/out. (it will ask for an auth code; that auth is not saved anywhere)"
      ]
    },
    {
      "cell_type": "code",
      "metadata": {
        "id": "puq4iC6vUAHc",
        "colab_type": "code",
        "colab": {
          "base_uri": "https://localhost:8080/",
          "height": 34
        },
        "outputId": "37b3b225-5f85-42ff-fbcf-24fe7b8ff0a1"
      },
      "source": [
        "gpt2.mount_gdrive()"
      ],
      "execution_count": 5,
      "outputs": [
        {
          "output_type": "stream",
          "text": [
            "Mounted at /content/drive\n"
          ],
          "name": "stdout"
        }
      ]
    },
    {
      "cell_type": "markdown",
      "metadata": {
        "id": "BT__brhBCvJu",
        "colab_type": "text"
      },
      "source": [
        "## Download dataset from Kaggle"
      ]
    },
    {
      "cell_type": "code",
      "metadata": {
        "id": "jYLX1Mz2R9yE",
        "colab_type": "code",
        "colab": {
          "base_uri": "https://localhost:8080/",
          "height": 238
        },
        "outputId": "81cf4ab2-b8b6-4402-89d4-f9b2abc92dc8"
      },
      "source": [
        "! pip install kaggle\n",
        "chu.kaggle_credentials(file='./drive/My Drive/Colab Notebooks/kaggle.json')"
      ],
      "execution_count": 6,
      "outputs": [
        {
          "output_type": "stream",
          "text": [
            "Requirement already satisfied: kaggle in /usr/local/lib/python3.6/dist-packages (1.5.8)\n",
            "Requirement already satisfied: urllib3<1.25,>=1.21.1 in /usr/local/lib/python3.6/dist-packages (from kaggle) (1.24.3)\n",
            "Requirement already satisfied: certifi in /usr/local/lib/python3.6/dist-packages (from kaggle) (2020.6.20)\n",
            "Requirement already satisfied: slugify in /usr/local/lib/python3.6/dist-packages (from kaggle) (0.0.1)\n",
            "Requirement already satisfied: requests in /usr/local/lib/python3.6/dist-packages (from kaggle) (2.23.0)\n",
            "Requirement already satisfied: six>=1.10 in /usr/local/lib/python3.6/dist-packages (from kaggle) (1.15.0)\n",
            "Requirement already satisfied: python-dateutil in /usr/local/lib/python3.6/dist-packages (from kaggle) (2.8.1)\n",
            "Requirement already satisfied: tqdm in /usr/local/lib/python3.6/dist-packages (from kaggle) (4.41.1)\n",
            "Requirement already satisfied: python-slugify in /usr/local/lib/python3.6/dist-packages (from kaggle) (4.0.1)\n",
            "Requirement already satisfied: idna<3,>=2.5 in /usr/local/lib/python3.6/dist-packages (from requests->kaggle) (2.10)\n",
            "Requirement already satisfied: chardet<4,>=3.0.2 in /usr/local/lib/python3.6/dist-packages (from requests->kaggle) (3.0.4)\n",
            "Requirement already satisfied: text-unidecode>=1.3 in /usr/local/lib/python3.6/dist-packages (from python-slugify->kaggle) (1.3)\n",
            "Credentials written to /root/.kaggle/kaggle.json\n"
          ],
          "name": "stdout"
        }
      ]
    },
    {
      "cell_type": "code",
      "metadata": {
        "id": "s0lTyKhRLjGS",
        "colab_type": "code",
        "colab": {
          "base_uri": "https://localhost:8080/",
          "height": 68
        },
        "outputId": "23738315-1cb4-4cf5-f612-00fa11e8b44d"
      },
      "source": [
        "! kaggle datasets download -d PromptCloudHQ/taylor-swift-song-lyrics-from-all-the-albums"
      ],
      "execution_count": 7,
      "outputs": [
        {
          "output_type": "stream",
          "text": [
            "Downloading taylor-swift-song-lyrics-from-all-the-albums.zip to /content\n",
            "\r  0% 0.00/68.7k [00:00<?, ?B/s]\n",
            "\r100% 68.7k/68.7k [00:00<00:00, 25.1MB/s]\n"
          ],
          "name": "stdout"
        }
      ]
    },
    {
      "cell_type": "code",
      "metadata": {
        "id": "W98Ml6OPLjn4",
        "colab_type": "code",
        "colab": {
          "base_uri": "https://localhost:8080/",
          "height": 51
        },
        "outputId": "1f51226c-faa3-46b5-d60b-7b33f87b04b4"
      },
      "source": [
        "!unzip taylor-swift-song-lyrics-from-all-the-albums.zip"
      ],
      "execution_count": 8,
      "outputs": [
        {
          "output_type": "stream",
          "text": [
            "Archive:  taylor-swift-song-lyrics-from-all-the-albums.zip\n",
            "  inflating: taylor_swift_lyrics.csv  \n"
          ],
          "name": "stdout"
        }
      ]
    },
    {
      "cell_type": "markdown",
      "metadata": {
        "id": "xD09WXO0QWNn",
        "colab_type": "text"
      },
      "source": [
        "# Preprocess the data"
      ]
    },
    {
      "cell_type": "code",
      "metadata": {
        "id": "kVNn8noCLqFY",
        "colab_type": "code",
        "colab": {}
      },
      "source": [
        "dataset = pd.read_csv('taylor_swift_lyrics.csv',encoding = \"latin1\")"
      ],
      "execution_count": 9,
      "outputs": []
    },
    {
      "cell_type": "code",
      "metadata": {
        "id": "XwuoNWvELuB5",
        "colab_type": "code",
        "colab": {
          "base_uri": "https://localhost:8080/",
          "height": 68
        },
        "outputId": "a00d1899-f212-4b5a-e571-2535d656901b"
      },
      "source": [
        "# Get all lyrics\n",
        "lyrics = dataset['lyric'].tolist() \n",
        "\n",
        "# combine and split by lines\n",
        "lyrics_text = ''\n",
        "for i in lyrics: \n",
        "  lyrics_text += i + '\\n' \n",
        "\n",
        "print('Lyrics length:', len(lyrics_text))\n",
        "print(lyrics_text[:50])"
      ],
      "execution_count": 10,
      "outputs": [
        {
          "output_type": "stream",
          "text": [
            "Lyrics length: 173604\n",
            "He said the way my blue eyes shined\n",
            "Put those Geor\n"
          ],
          "name": "stdout"
        }
      ]
    },
    {
      "cell_type": "code",
      "metadata": {
        "id": "iyx3WOP7MjSJ",
        "colab_type": "code",
        "colab": {}
      },
      "source": [
        "text_file = open(\"lyrics.txt\", 'w')\n",
        "text_file.write(lyrics_text)\n",
        "text_file.close()"
      ],
      "execution_count": 11,
      "outputs": []
    },
    {
      "cell_type": "code",
      "metadata": {
        "id": "6OFnPCLADfll",
        "colab_type": "code",
        "colab": {}
      },
      "source": [
        "file_name = \"lyrics.txt\""
      ],
      "execution_count": 12,
      "outputs": []
    },
    {
      "cell_type": "markdown",
      "metadata": {
        "id": "LdpZQXknFNY3",
        "colab_type": "text"
      },
      "source": [
        "## Finetune GPT-2\n",
        "\n",
        "The next cell will start the actual finetuning of GPT-2. It creates a persistent TensorFlow session which stores the training config, then runs the training for the specified number of `steps`. (to have the finetuning run indefinitely, set `steps = -1`)\n",
        "\n",
        "The model checkpoints will be saved in `/checkpoint/run1` by default. The checkpoints are saved every 500 steps (can be changed) and when the cell is stopped.\n",
        "\n",
        "The training might time out after 4ish hours; make sure you end training and save the results so you don't lose them!\n",
        "\n",
        "**IMPORTANT NOTE:** If you want to rerun this cell, **restart the VM first** (Runtime -> Restart Runtime). You will need to rerun imports but not recopy files.\n",
        "\n",
        "Other optional-but-helpful parameters for `gpt2.finetune`:\n",
        "\n",
        "\n",
        "*  **`restore_from`**: Set to `fresh` to start training from the base GPT-2, or set to `latest` to restart training from an existing checkpoint.\n",
        "* **`sample_every`**: Number of steps to print example output\n",
        "* **`print_every`**: Number of steps to print training progress.\n",
        "* **`learning_rate`**:  Learning rate for the training. (default `1e-4`, can lower to `1e-5` if you have <1MB input data)\n",
        "*  **`run_name`**: subfolder within `checkpoint` to save the model. This is useful if you want to work with multiple models (will also need to specify  `run_name` when loading the model)"
      ]
    },
    {
      "cell_type": "code",
      "metadata": {
        "id": "aeXshJM-Cuaf",
        "colab_type": "code",
        "colab": {
          "base_uri": "https://localhost:8080/",
          "height": 1000
        },
        "outputId": "69abf4e3-3813-42c1-c192-add2d55331d7"
      },
      "source": [
        "sess = gpt2.start_tf_sess()\n",
        "gpt2.finetune(sess,\n",
        "              dataset=file_name,\n",
        "              model_name='345M',\n",
        "              steps=1000,\n",
        "              restore_from='fresh',\n",
        "              print_every=10,\n",
        "              sample_every=200,\n",
        "              save_every=500\n",
        "              )"
      ],
      "execution_count": 13,
      "outputs": [
        {
          "output_type": "stream",
          "text": [
            "WARNING:tensorflow:From /usr/local/lib/python3.6/dist-packages/gpt_2_simple/src/sample.py:17: where (from tensorflow.python.ops.array_ops) is deprecated and will be removed in a future version.\n",
            "Instructions for updating:\n",
            "Use tf.where in 2.0, which has the same broadcast rule as np.where\n",
            "WARNING:tensorflow:From /usr/local/lib/python3.6/dist-packages/gpt_2_simple/src/memory_saving_gradients.py:62: get_backward_walk_ops (from tensorflow.contrib.graph_editor.select) is deprecated and will be removed after 2019-06-06.\n",
            "Instructions for updating:\n",
            "Please use tensorflow.python.ops.op_selector.get_backward_walk_ops.\n",
            "Loading checkpoint models/345M/model.ckpt\n",
            "INFO:tensorflow:Restoring parameters from models/345M/model.ckpt\n"
          ],
          "name": "stdout"
        },
        {
          "output_type": "stream",
          "text": [
            "\r  0%|          | 0/1 [00:00<?, ?it/s]"
          ],
          "name": "stderr"
        },
        {
          "output_type": "stream",
          "text": [
            "Loading dataset...\n"
          ],
          "name": "stdout"
        },
        {
          "output_type": "stream",
          "text": [
            "100%|██████████| 1/1 [00:00<00:00,  3.10it/s]\n"
          ],
          "name": "stderr"
        },
        {
          "output_type": "stream",
          "text": [
            "dataset has 47368 tokens\n",
            "Training...\n",
            "[10 | 40.68] loss=1.39 avg=1.39\n",
            "[20 | 70.77] loss=1.62 avg=1.50\n",
            "[30 | 100.93] loss=2.02 avg=1.68\n",
            "[40 | 131.16] loss=1.23 avg=1.56\n",
            "[50 | 161.41] loss=1.81 avg=1.61\n",
            "[60 | 191.67] loss=1.37 avg=1.57\n",
            "[70 | 221.94] loss=1.33 avg=1.54\n",
            "[80 | 252.14] loss=0.94 avg=1.46\n",
            "[90 | 282.40] loss=0.99 avg=1.40\n",
            "[100 | 312.63] loss=0.86 avg=1.35\n",
            "[110 | 342.95] loss=0.95 avg=1.31\n",
            "[120 | 373.27] loss=0.99 avg=1.28\n",
            "[130 | 403.59] loss=1.09 avg=1.27\n",
            "[140 | 433.90] loss=0.83 avg=1.23\n",
            "[150 | 464.11] loss=0.76 avg=1.20\n",
            "[160 | 494.42] loss=0.22 avg=1.13\n",
            "[170 | 524.76] loss=0.95 avg=1.12\n",
            "[180 | 555.01] loss=0.22 avg=1.07\n",
            "[190 | 585.21] loss=1.02 avg=1.06\n",
            "[200 | 615.45] loss=0.25 avg=1.02\n",
            "======== SAMPLE 1 ========\n",
            "'s not easy, it takes time\n",
            "Standing in the rain outside till I came out\n",
            "I said, \"That was incredible!\"\n",
            "And they'd say, \"Oh, it's not your best work\" and I'd look at them all and go, \"What?\"\n",
            "I'm twenty-six now, but it still feels like\n",
            "I was twenty-six years old when I did it\n",
            "My first day\n",
            "With your help\n",
            "I took the first step\n",
            "I took the ladder up\n",
            "I'm twenty-five now\n",
            "But I still feel like I was twenty-five\n",
            "My second day\n",
            "I got your autograph\n",
            "And nobody knows what I'm thinking\n",
            "'Cause I'm still trying to figure it out\n",
            "My third day\n",
            "I'm talking to everyone I know about you\n",
            "And suddenly they're all talking about me\n",
            "I guess it's me versus everyone else\n",
            "But I'm not feeling much of anything at all\n",
            "I used to be so chill\n",
            "Now I'm sweating bullets\n",
            "Fighting for your right to be here\n",
            "My number one priority\n",
            "Is to make sure you don't get left out\n",
            "My fear is that you understand exactly why I'm here\n",
            "'Cause I'm still trying to figure it out\n",
            "My fear is that you understand exactly why I'm here\n",
            "My second day\n",
            "When you come around I'll bet you're a little older than us\n",
            "But I still see you every day\n",
            "Fighting for your right to be here\n",
            "My number one priority\n",
            "Is to make sure you don't get left out\n",
            "My fear is that you understand exactly why I'm here\n",
            "'Cause I'm still trying to figure it out\n",
            "My fear is that you understand exactly why I'm here\n",
            "If you are truly reading this it means you\n",
            "Know exactly why I'm here\n",
            "Because I see sparks fly everywhere you go\n",
            "'Cause I'm not the only one who feels the way I do\n",
            "I see sparks fly everywhere you go\n",
            "And I can't help it when you make me laugh\n",
            "Because it's so damn cute\n",
            "And I can't help it when you smile\n",
            "Because it's so damn charming\n",
            "And it makes my back ache\n",
            "Better when you smile\n",
            "Yeah, it's so damn cute\n",
            "When you make me laugh\n",
            "I feel like I could cry\n",
            "But only sometimes\n",
            "And you can't\n",
            "Don't you see the smile, the way you're standing there, all dressed up\n",
            "And it reads like a best-seller\n",
            "'Cause it's so damn charming\n",
            "And it makes my back ache\n",
            "Better when you smile\n",
            "And it makes my back ache\n",
            "Better when you make me laugh\n",
            "Just look at that face\n",
            "It says, \"I see sparks fly everywhere you go\"\n",
            "And it's so much better\n",
            "When you make me laugh\n",
            "There's just so much\n",
            "In those last few seconds\n",
            "Without me, it would have gone either way\n",
            "I don't think I made a huge mistake\n",
            "Getting married when I was young\n",
            "Widening the gap between us\n",
            "Saying my vows now that I'm older\n",
            "You say I didn't ask you to be\n",
            "The best, maybe the only thing that can save us all\n",
            "From the mistakes we made as kids\n",
            "'Cause I see sparks fly everywhere you go\n",
            "And it reads like a best-seller\n",
            "'Cause it's so damn charming\n",
            "And it makes my back ache\n",
            "Better when you smile\n",
            "And it makes my back ache\n",
            "Better when you make me laugh\n",
            "Just look at that face\n",
            "It says, \"I see sparks fly everywhere you go\"\n",
            "And it's so much better\n",
            "When you make me laugh\n",
            "I feel like I might fall over\n",
            "And you know that it's impossible\n",
            "'Cause I see sparks fly everywhere you go\n",
            "And it reads like a best-seller\n",
            "'Cause it's so damn charming\n",
            "And it makes my back ache\n",
            "Better when you smile\n",
            "And it makes my back ache\n",
            "Better when you make me laugh\n",
            "Look at those beautiful eyes\n",
            "They make me so happy\n",
            "I don't think I really deserved that\n",
            "I was so mean\n",
            "Talking behind her back\n",
            "Like a coward\n",
            "She's all I wanted\n",
            "But I knew it from the first page\n",
            "I couldn't help it if you walked with me\n",
            "Happily ever afters and all you have is me against you\n",
            "But I know there's always a catch\n",
            "'Cause every girl wants to be the pretty one\n",
            "But I'm only interested in the one\n",
            "Who brings her skirt up to her knees\n",
            "Wearing high heels\n",
            "Wearing high heels\n",
            "So don't you walk away\n",
            "Or do you have to try something else?\n",
            "What a catch\n",
            "Every guy in his fifty-odds\n",
            "Says he's fine\n",
            "'Cause he's got five-and-dimes\n",
            "And he can take it\n",
            "But every girl wants to be the pretty one\n",
            "But I'm only interested in the one\n",
            "Who brings her skirt up to her knees\n",
            "\n",
            "\n",
            "[210 | 684.25] loss=0.41 avg=0.99\n",
            "[220 | 714.53] loss=1.57 avg=1.02\n",
            "[230 | 744.80] loss=0.56 avg=1.00\n",
            "[240 | 775.05] loss=0.14 avg=0.96\n",
            "[250 | 805.30] loss=0.33 avg=0.93\n",
            "[260 | 835.54] loss=0.21 avg=0.90\n",
            "[270 | 865.80] loss=0.52 avg=0.88\n",
            "[280 | 896.08] loss=0.14 avg=0.85\n",
            "[290 | 926.34] loss=0.28 avg=0.83\n",
            "[300 | 956.59] loss=0.07 avg=0.80\n",
            "[310 | 986.85] loss=0.25 avg=0.78\n",
            "[320 | 1017.15] loss=0.13 avg=0.75\n",
            "[330 | 1047.42] loss=0.05 avg=0.73\n",
            "[340 | 1077.68] loss=0.05 avg=0.71\n",
            "[350 | 1107.96] loss=0.07 avg=0.68\n",
            "[360 | 1138.27] loss=0.06 avg=0.66\n",
            "[370 | 1168.54] loss=0.05 avg=0.64\n",
            "[380 | 1198.86] loss=0.14 avg=0.63\n",
            "[390 | 1229.17] loss=0.03 avg=0.61\n",
            "[400 | 1259.43] loss=0.06 avg=0.59\n",
            "======== SAMPLE 1 ========\n",
            "'re going to be OK\n",
            "He said he's an expert on everything\n",
            "I don't know anything about science\n",
            "But you make it up as you go along\n",
            "There's nothing I do better than back up my claims\n",
            "Science is tenuous at best\n",
            "And sometimes I wonder if you believe me\n",
            "After all this time, I still don't know everything\n",
            "Maybe we'll get it finally\n",
            "Got to the point where it's pointless trying anymore\n",
            "All I know is that I'm sick and tired of your attitude\n",
            "I don't get to decide if you're sick and tired of me\n",
            "You say you want it back but I don't buy it\n",
            "Maybe we'll get it finally\n",
            "My problem is you're got so many things going against you\n",
            "I don't trust nobody and nobody trusts you\n",
            "And the cycle ends right now\n",
            "'Cause you know I don't want to see it end\n",
            "My problem is you're all I want is love\n",
            "Don't be ridiculous darling\n",
            "Don't be ridiculous\n",
            "This love is nothing but heartbreak\n",
            "Don't be ridiculous\n",
            "Don't be ridiculous\n",
            "This love is nothing but heartbreak\n",
            "Been spending the last eight months\n",
            "Thinking about suicide every single day\n",
            "But I've got an ace up my sleeve\n",
            "I've got a plan B, we'll do this\n",
            "Stay this night, I don't wanna give up\n",
            "Sleep with two eyes open at night\n",
            "If I have to, I'll sleep with one eye open at night\n",
            "It's 2:00 AM, I don't wanna miss you\n",
            "I don't wanna miss you\n",
            "I don't wanna miss you\n",
            "I don't wanna miss you\n",
            "This love is nothing but heartbreak\n",
            "Don't be ridiculous\n",
            "Don't be ridiculous\n",
            "This love is nothing but heartbreak\n",
            "Been spending the last eight months\n",
            "Thinking about suicide every single day\n",
            "But I've got an ace up my sleeve\n",
            "I've got a plan B, we'll do this\n",
            "Stay this night, I don't wanna give up\n",
            "Sleep with two eyes open at night\n",
            "If I have to, I'll sleep with one eye open at night\n",
            "It's 2:00 AM, I don't wanna miss you\n",
            "I don't wanna miss you\n",
            "I don't wanna miss you\n",
            "I don't wanna miss you\n",
            "This love is nothing but heartbreak\n",
            "Don't be ridiculous\n",
            "Don't be ridiculous\n",
            "This love is nothing but heartbreak\n",
            "Been spending the last eight months\n",
            "Thinking about suicide every single day\n",
            "But I've got an ace up my sleeve\n",
            "I've got a plan B, we'll do this\n",
            "Stay this night, I don't wanna give up\n",
            "I don't wanna give up\n",
            "I don't wanna give up\n",
            "I don't wanna give up\n",
            "This love is nothing but heartbreak\n",
            "Don't be ridiculous\n",
            "Don't be ridiculous\n",
            "This love is nothing but heartbreak\n",
            "Been spending the last eight months\n",
            "Thinking about suicide every single day\n",
            "But I've got an ace up my sleeve\n",
            "I've got a plan B, we'll do this\n",
            "Stay this night, I don't wanna give up\n",
            "I don't wanna give up\n",
            "I don't wanna give up\n",
            "I don't wanna give up\n",
            "This love is nothing but heartbreak\n",
            "Don't be ridiculous\n",
            "Don't be ridiculous\n",
            "This love is nothing but heartbreak\n",
            "Been spending the last eight months\n",
            "Thinking about suicide every single day\n",
            "But I've got an ace up my sleeve\n",
            "I've got a plan B, we'll do this\n",
            "Stay this night, I don't wanna give up\n",
            "I don't wanna give up\n",
            "I don't wanna give up\n",
            "I don't wanna give up\n",
            "This love is nothing but heartbreak\n",
            "Don't be ridiculous\n",
            "Don't be ridiculous\n",
            "This love is nothing but heartbreak\n",
            "Been spending the last eight months\n",
            "Thinking about suicide every single day\n",
            "But I've got an ace up my sleeve\n",
            "In a panic attack I'll take your breath away\n",
            "I've got a blank space, you could write a book\n",
            "I've been there before, I've seen it all\n",
            "All I know is I was there\n",
            "And I'm not feeling well\n",
            "Choked on my own vomit\n",
            "All I know is I was there\n",
            "We were teenagers, you were in college\n",
            "We moved around a lot, you dated cool kids\n",
            "I was kissing you in the backseat of the car\n",
            "You were giving me head nods and high fives\n",
            "I was so stoked, I needed a little space\n",
            "We hooked up and I was taking your calls\n",
            "I remember how it was back then, back when I could say something\n",
            "I remember how it was back then, when we were in the middle of something\n",
            "You said, \"Hey, I've heard some things\"\n",
            "We were teens, I was taking calls\n",
            "You were giving me head nods and high fives\n",
            "It was so cool being in love, it was so cool being alone\n",
            "All I know\n",
            "\n",
            "[410 | 1325.54] loss=0.07 avg=0.58\n",
            "[420 | 1355.73] loss=0.07 avg=0.56\n",
            "[430 | 1385.97] loss=0.13 avg=0.55\n",
            "[440 | 1416.23] loss=0.04 avg=0.54\n",
            "[450 | 1446.49] loss=0.12 avg=0.53\n",
            "[460 | 1476.79] loss=0.17 avg=0.52\n",
            "[470 | 1507.08] loss=0.05 avg=0.50\n",
            "[480 | 1537.38] loss=0.15 avg=0.49\n",
            "[490 | 1567.68] loss=0.08 avg=0.48\n",
            "[500 | 1597.99] loss=0.07 avg=0.47\n",
            "Saving checkpoint/run1/model-500\n",
            "[510 | 1636.72] loss=0.04 avg=0.46\n",
            "[520 | 1666.91] loss=0.04 avg=0.45\n",
            "[530 | 1697.17] loss=0.11 avg=0.44\n",
            "[540 | 1727.45] loss=0.06 avg=0.43\n",
            "[550 | 1757.73] loss=0.07 avg=0.43\n",
            "[560 | 1788.03] loss=0.07 avg=0.42\n",
            "[570 | 1818.34] loss=0.11 avg=0.41\n",
            "[580 | 1848.62] loss=0.13 avg=0.40\n",
            "[590 | 1878.93] loss=0.12 avg=0.40\n",
            "[600 | 1909.18] loss=0.10 avg=0.39\n",
            "======== SAMPLE 1 ========\n",
            " things I wish you would\n",
            "I wish we could go back\n",
            "And remember what we were fighting for, and I\n",
            "Wish you were right, and I\n",
            "Wish you knew that\n",
            "I'd never give in, never give in, never give in\n",
            "Never give in\n",
            "Oh, never, never\n",
            "I see you coming up empty-handed\n",
            "And I envy you\n",
            "Earning your keep\n",
            "And I'll be picking on you\n",
            "And I'll use it\n",
            "As a weapon\n",
            "And I just want to tell you\n",
            "It takes everything in me not to call you\n",
            "And I wish I had\n",
            "A little more maturity\n",
            "And you would go away\n",
            "And I would come back to this place\n",
            "Where we first met\n",
            "And I would open up the door\n",
            "And it would feel like\n",
            "A perfect night for breakfast at midnight\n",
            "To fall in love with strangers\n",
            "And to forget about us\n",
            "And how we ended up this way\n",
            "Oh, we ended up this way\n",
            "In your jeans, and your T-shirt\n",
            "In your boyfriend's bathroom\n",
            "You made your mark on me, a small silver letter\n",
            "And I've been counting the days\n",
            "When you left and I never saw you return\n",
            "And I keep asking myself, \"Why?\"\n",
            "Why are we doing this?\n",
            "Why are we doing this?\n",
            "You put your arm around me for the first time\n",
            "You made a rebel of a careless man's careful daughter\n",
            "You are the best thing that's ever been mine\n",
            "You made a rebel of a careless man's careful daughter\n",
            "You are the best thing that's ever been mine\n",
            "You made a rebel of a careless man's careful daughter\n",
            "You are the best thing that's ever been mine\n",
            "(yeah!)\n",
            "You made a rebel of a careless man's careful daughter\n",
            "You are the best thing that's ever been mine\n",
            "You made a rebel of a careless man's careful daughter\n",
            "You are the best thing that's ever been mine\n",
            "(yeah!)\n",
            "Five years had gone and come around\n",
            "We were sitting at our favorite spot in town\n",
            "And you looked at me, got down on one knee\n",
            "Give me your name, give me your place\n",
            "I'm ready for it, I'm ready for it\n",
            "Ten days without a nickel\n",
            "And I'm a rebel\n",
            "Taking my rightful place\n",
            "In your family, in your circles\n",
            "And you think I don't know\n",
            "That I'm a rebel\n",
            "Yeah, I'm on my guard\n",
            "But there is something in your eyes that makes me run\n",
            "With you as my rock\n",
            "And you as my suicide bomber\n",
            "I will put the pieces together\n",
            "Of a jigsaw puzzle\n",
            "That will take me years\n",
            "To put back together\n",
            "I can't believe you made a bad choice\n",
            "You could have spent my whole life\n",
            "Wondering why you care so much\n",
            "I think I would have liked it\n",
            "Better if you hadn't asked me so nicely\n",
            "If you hadn't asked me so nicely\n",
            "(I don't know what to say)\n",
            "Better if I hadn't wanted to hurt you\n",
            "I guess I went with the flow\n",
            "Of things going well and now\n",
            "I know it's hard to believe\n",
            "After all these years\n",
            "And all you've done is stay\n",
            "You made a rebel of a careless man's careful daughter\n",
            "You are the best thing that's ever been mine\n",
            "You made a rebel of a careless man's careful daughter\n",
            "You are the best thing that's ever been mine\n",
            "You made a rebel of a careless man's careful daughter\n",
            "You are the best thing that's ever been mine\n",
            "(yeah!)\n",
            "You made a rebel of a careless man's careful daughter\n",
            "You are the best thing that's ever been mine\n",
            "(yeah!)\n",
            "You made a rebel of a careless man's careful daughter\n",
            "You are the best thing that's ever been mine\n",
            "(yeah!)\n",
            "You made a rebel of a careless man's careful daughter\n",
            "You are the best thing that's ever been mine\n",
            "(yeah!)\n",
            "Time turns flames to embers\n",
            "You found me, you found me\n",
            "You found me, you found me\n",
            "Lightning struck while it was still bright\n",
            "Just a small town boy and girl\n",
            "Living in a small town\n",
            "Growing up and missing your smile\n",
            "Trying new foods, discovering new things\n",
            "Lonely places, new sounds\n",
            "Vocalizing to myself, \"I want you\"\n",
            "You leave a small town and its noise\n",
            "Tells you I'm lonely, but you stay\n",
            "Stay, stay, stay\n",
            "You find your voice, your place in the sun\n",
            "You learn to love the unexpected\n",
            "I guess it's true that love can be rough\n",
            "There I was again tonight\n",
            "Strangers wishing they'd come around\n",
            "Staying out late listening to the rain coming\n",
            "And it felt like the first time\n",
            "You found me, you found me\n",
            "You found me, you found me\n",
            "Oh, who you are is not where you've been\n",
            "You found me, you found me\n",
            "You found me\n",
            "\n",
            "[610 | 1975.31] loss=0.04 avg=0.38\n",
            "[620 | 2005.54] loss=0.25 avg=0.38\n",
            "[630 | 2035.85] loss=0.05 avg=0.37\n",
            "[640 | 2066.16] loss=0.02 avg=0.37\n",
            "[650 | 2096.47] loss=0.11 avg=0.36\n",
            "[660 | 2126.77] loss=0.06 avg=0.35\n",
            "[670 | 2157.09] loss=0.05 avg=0.35\n",
            "[680 | 2187.39] loss=0.05 avg=0.34\n",
            "[690 | 2217.63] loss=0.06 avg=0.34\n",
            "[700 | 2247.82] loss=0.05 avg=0.33\n",
            "[710 | 2278.18] loss=0.06 avg=0.33\n",
            "[720 | 2308.61] loss=0.07 avg=0.32\n",
            "[730 | 2339.03] loss=0.09 avg=0.32\n",
            "[740 | 2369.47] loss=0.05 avg=0.31\n",
            "[750 | 2399.92] loss=0.03 avg=0.31\n",
            "[760 | 2430.40] loss=0.03 avg=0.30\n",
            "[770 | 2460.85] loss=0.12 avg=0.30\n",
            "[780 | 2491.22] loss=0.05 avg=0.29\n",
            "[790 | 2521.56] loss=0.05 avg=0.29\n",
            "[800 | 2551.89] loss=0.05 avg=0.28\n",
            "======== SAMPLE 1 ========\n",
            " walked and I ran and I was gone\n",
            "I don't wanna live without you\n",
            "I'm not a princess, this ain't a fairytale\n",
            "I'm not the one you'll sweep off her feet, lead her up the stairwell\n",
            "This ain't Hollywood, this is a small town\n",
            "I was a dreamer before you went and let me down\n",
            "Now it's too late for you and your white horse\n",
            "To come around\n",
            "Baby I was naive, got lost in your eyes\n",
            "And never really had a chance\n",
            "My mistake I didn't know to be in love\n",
            "You had to fight to have the upper hand\n",
            "I had so many dreams about you and me\n",
            "Happy endings, now I know\n",
            "That I'm not a princess, this ain't a fairytale\n",
            "I'm not the one you'll sweep off her feet, lead her up the stairwell\n",
            "This ain't Hollywood, this is a small town\n",
            "I was a dreamer before you went and let me down\n",
            "Now it's too late for you and your white horse\n",
            "To come around\n",
            "And there you are on your knees\n",
            "Beggin' for forgiveness, beggin' for me\n",
            "Just like I always wanted\n",
            "But I'm so sorry\n",
            "'Cause I'm so sorry\n",
            "'Cause I'm so sorry\n",
            "I'm so sorry\n",
            "'Cause I'm so sorry\n",
            "(Heard we were)\n",
            "Alone\n",
            "I heard the sound of my own voice\n",
            "Asking you to stay\n",
            "And all we are is skin and bone trained to get along\n",
            "We just sit and wait for trains that just aren't coming\n",
            "We look like strangers in your\n",
            "New York flat so I thought\n",
            "He knelt to the ground and pulled out a ring\n",
            "And said: \"Marry me Juliet\n",
            "You'll never have to be alone\n",
            "I love you and that's all I really know\n",
            "I talked to your dad, go pick out a rose\n",
            "And I got tired of waiting for you to show up\n",
            "So here's to you and your rose garden\n",
            "Here's to you and your rose garden\n",
            "Here's to you and your rose garden\n",
            "Here's to you and your rose garden\n",
            "Here's to you and your rose garden\n",
            "Like it was the first time, first time\n",
            "Yeah, I remember what you said\n",
            "And I know it's long gone, and that's why we're here\n",
            "'Cause it was the first time, first time\n",
            "Yeah, I remember what you said\n",
            "And I know it's long gone, and that's why we're here\n",
            "'Cause it was the first time, first time\n",
            "Yeah, I remember what you said\n",
            "And I know it's long gone, and that's why we're here\n",
            "'Cause it was the first time, first time\n",
            "And that's why we're here\n",
            "\n",
            "I was seventeen when suddenly I wasn't that little girl you used to see\n",
            "I didn't say half the things I wanted to\n",
            "Didn't read half the things you said\n",
            "And spent the rest of the year with you\n",
            "I forget their names now, I'm so sorry\n",
            "'Cause I'm so sorry\n",
            "'Cause I'm so sorry\n",
            "I'm so sorry\n",
            "Cause I'm so sorry\n",
            "'Cause I'm so sorry\n",
            "I'm so sorry\n",
            "'Cause I'm so sorry\n",
            "I'm so sorry\n",
            "'Cause I'm so sorry\n",
            "I'm so sorry\n",
            "Sorry, I'm so sorry\n",
            "I'm so sorry\n",
            "'Cause I'm so sorry\n",
            "I'm so sorry\n",
            "'Cause I'm so sorry\n",
            "I'm so sorry\n",
            "'Cause I'm so sorry\n",
            "(Heard we were)\n",
            "Alone\n",
            "I heard the sound of my own voice\n",
            "Asking you to stay\n",
            "And all we are is skin and bone trained to get along\n",
            "We just sit and wait for trains that just aren't coming\n",
            "We look like strangers in your\n",
            "New York flat so I thought\n",
            "He knelt to the ground and pulled out a ring\n",
            "And said: \"Marry me Juliet\n",
            "You'll never have to be alone\n",
            "I know what you're doing, I know\n",
            "We just sit and wait for trains that just aren't coming\n",
            "We look like strangers in your\n",
            "New York flat so I thought\n",
            "He knelt to the ground and pulled out a ring\n",
            "And said: \"Marry me Juliet\n",
            "You'll never have to be alone\"\n",
            "I knew what I was getting into\n",
            "When all you were was darker than I wanted to see\n",
            "And all you were was mean\n",
            "All you were was mean to me\n",
            "And a liar, and pathetic, and alone\n",
            "When all you wanted was to hurt\n",
            "And then you showed up here\n",
            "And said: \"I'll never leave you\"\n",
            "And that's what I wanted to see\n",
            "And that's what I got, baby\n",
            "And that's what I got, baby\n",
            "You pushed me around, you made me do\n",
            "I almost got burned, I almost got burned\n",
            "You tried\n",
            "\n",
            "[810 | 2618.18] loss=0.03 avg=0.28\n",
            "[820 | 2648.57] loss=0.05 avg=0.28\n",
            "[830 | 2678.96] loss=0.05 avg=0.27\n",
            "[840 | 2709.37] loss=0.04 avg=0.27\n",
            "[850 | 2739.79] loss=0.06 avg=0.26\n",
            "[860 | 2770.17] loss=0.04 avg=0.26\n",
            "[870 | 2800.51] loss=0.07 avg=0.26\n",
            "[880 | 2830.87] loss=0.04 avg=0.25\n",
            "[890 | 2861.25] loss=0.04 avg=0.25\n",
            "[900 | 2891.63] loss=0.05 avg=0.25\n",
            "[910 | 2922.00] loss=0.05 avg=0.24\n",
            "[920 | 2952.39] loss=0.03 avg=0.24\n",
            "[930 | 2982.73] loss=0.05 avg=0.24\n",
            "[940 | 3013.19] loss=0.03 avg=0.23\n",
            "[950 | 3043.54] loss=0.04 avg=0.23\n",
            "[960 | 3073.85] loss=0.05 avg=0.23\n",
            "[970 | 3104.14] loss=0.04 avg=0.22\n",
            "[980 | 3134.24] loss=0.05 avg=0.22\n",
            "[990 | 3164.48] loss=0.04 avg=0.22\n",
            "[1000 | 3194.74] loss=0.06 avg=0.22\n",
            "Saving checkpoint/run1/model-1000\n",
            "WARNING:tensorflow:From /tensorflow-1.15.2/python3.6/tensorflow_core/python/training/saver.py:963: remove_checkpoint (from tensorflow.python.training.checkpoint_management) is deprecated and will be removed in a future version.\n",
            "Instructions for updating:\n",
            "Use standard file APIs to delete files with this prefix.\n"
          ],
          "name": "stdout"
        }
      ]
    },
    {
      "cell_type": "markdown",
      "metadata": {
        "id": "IXSuTNERaw6K",
        "colab_type": "text"
      },
      "source": [
        "After the model is trained, you can copy the checkpoint folder to your own Google Drive.\n",
        "\n",
        "If you want to download it to your personal computer, it's strongly recommended you copy it there first, then download from Google Drive. (NB: if you are downloading the model to your personal computer, download the large model checkpoint file *seperately*, download the other files, and reconstruct the `/checkpoint/run1` folder hierarchy locally)."
      ]
    },
    {
      "cell_type": "code",
      "metadata": {
        "id": "VHdTL8NDbAh3",
        "colab_type": "code",
        "colab": {}
      },
      "source": [
        "gpt2.copy_checkpoint_to_gdrive(run_name='run1')"
      ],
      "execution_count": 14,
      "outputs": []
    },
    {
      "cell_type": "markdown",
      "metadata": {
        "id": "qQJgV_b4bmzd",
        "colab_type": "text"
      },
      "source": [
        "You're done! Feel free to go to the **Generate Text From The Trained Model** section to generate text based on your retrained model."
      ]
    },
    {
      "cell_type": "markdown",
      "metadata": {
        "id": "pel-uBULXO2L",
        "colab_type": "text"
      },
      "source": [
        "## Load a Trained Model Checkpoint\n",
        "\n",
        "Running the next cell will copy the `checkpoint` folder from your Google Drive into the Colaboratory VM."
      ]
    },
    {
      "cell_type": "code",
      "metadata": {
        "id": "DCcx5u7sbPTD",
        "colab_type": "code",
        "colab": {}
      },
      "source": [
        "gpt2.copy_checkpoint_from_gdrive(run_name='run1')"
      ],
      "execution_count": 17,
      "outputs": []
    },
    {
      "cell_type": "markdown",
      "metadata": {
        "id": "RTa6zf3e_9gV",
        "colab_type": "text"
      },
      "source": [
        "The next cell will allow you to load the retrained model checkpoint + metadata necessary to generate text.\n",
        "\n",
        "**IMPORTANT NOTE:** If you want to rerun this cell, **restart the VM first** (Runtime -> Restart Runtime). You will need to rerun imports but not recopy files."
      ]
    },
    {
      "cell_type": "code",
      "metadata": {
        "id": "KwInEBdHYXgn",
        "colab_type": "code",
        "colab": {
          "base_uri": "https://localhost:8080/",
          "height": 51
        },
        "outputId": "25ff8e84-86de-44a4-e611-816aac457d42"
      },
      "source": [
        "sess = gpt2.start_tf_sess()\n",
        "gpt2.load_gpt2(sess)"
      ],
      "execution_count": 3,
      "outputs": [
        {
          "output_type": "stream",
          "text": [
            "Loading checkpoint checkpoint/run1/model-1000\n",
            "INFO:tensorflow:Restoring parameters from checkpoint/run1/model-1000\n"
          ],
          "name": "stdout"
        }
      ]
    },
    {
      "cell_type": "markdown",
      "metadata": {
        "id": "ClJwpF_ACONp",
        "colab_type": "text"
      },
      "source": [
        "## Generate Text From The Trained Model\n",
        "\n",
        "After you've trained the model or loaded a retrained model from checkpoint, you can now generate text. `generate` generates a single text from the loaded model."
      ]
    },
    {
      "cell_type": "code",
      "metadata": {
        "id": "NuYDh9ocT8R5",
        "colab_type": "code",
        "colab": {
          "base_uri": "https://localhost:8080/",
          "height": 1000
        },
        "outputId": "91f047f9-75fb-4f06-f397-36903a8a9576"
      },
      "source": [
        "gpt2.generate(sess, run_name='run1')"
      ],
      "execution_count": 4,
      "outputs": [
        {
          "output_type": "stream",
          "text": [
            "You're just a girl, right?\n",
            "You're just a girl, right?\n",
            "You're just a girl, right?\n",
            "Just a girl, right?\n",
            "Just a girl, right?\n",
            "(Just a girl)\n",
            "Oh, Oh, Oh, Oh, Oh, Oh, Oh, Oh\n",
            "Just a girl, right?\n",
            "She's just a girl, you know\n",
            "She's just a girl, you know\n",
            "She's just a girl, you know\n",
            "She's just a girl, you know\n",
            "She's just a girl, you know\n",
            "She's just a girl, you know\n",
            "She's just a girl, you know\n",
            "She's just a girl, you know\n",
            "She's just a girl, you know\n",
            "She's just a girl, you know\n",
            "She's just a girl, you know\n",
            "She's just a girl, you know\n",
            "She's just a girl, you know\n",
            "Her name is whatever you want it to be\n",
            "And her tits are as big as my bed\n",
            "And her face is just as scary as mine\n",
            "'Cause she's so much hotter than I am\n",
            "She's so much cuter than I am\n",
            "She's so much cuter than I am\n",
            "I can't say anything to your face\n",
            "'Cause look at her\n",
            "And her body is just as beautiful as mine\n",
            "And her mind is just as crazy\n",
            "She's so much cuter than I am\n",
            "She's so much cuter than I am\n",
            "I can't say anything to your face\n",
            "'Cause look at her\n",
            "And her tits are as big as my bed\n",
            "And her face is just as scary as mine\n",
            "'Cause she's so much cuter than I am\n",
            "She's so much cuter than I am\n",
            "She's so much cuter than I am\n",
            "(Oh!)\n",
            "Trippin', trip-trippin', trip-trippin'\n",
            "Trippin', trip-trippin', trip-trippin'\n",
            "Trippin', trip-trippin', trip-trippin'\n",
            "Trippin', trip-trippin', trip-trippin'\n",
            "Trippin', trip-trippin', trip-trippin'\n",
            "I can't say anything to your face\n",
            "'Cause look at her\n",
            "And her tits are as big as my bed\n",
            "And her face is just as scary as mine\n",
            "'Cause she's so much cuter than I am\n",
            "She's so much cuter than I am\n",
            "(Oh!)\n",
            "Trippin', trip-trippin', trip-trippin'\n",
            "Trippin', trip-trippin', trip-trippin'\n",
            "Trippin', trip-trippin', trip-trippin'\n",
            "Trippin', trip-trippin', trip-trippin'\n",
            "I can't say anything to your face\n",
            "'Cause look at her\n",
            "And her tits are as big as my bed\n",
            "And her face is just as scary as mine\n",
            "'Cause she's so much cuter than I am\n",
            "She's so much cuter than I am\n",
            "(Oh!)\n",
            "Trippin', trip-trippin', trip-trippin'\n",
            "Trippin', trip-trippin', trip-trippin'\n",
            "Trippin', trip-trippin', trip-trippin'\n",
            "(Oh!)\n",
            "Trippin', trip-trippin', trip-trippin'\n",
            "Trippin', trip-trippin', trip-trippin'\n",
            "Trippin', trip-trippin', trip-trippin'\n",
            "I can't say anything to your face\n",
            "'Cause look at her\n",
            "And her tits are as big as my bed\n",
            "And her face is just as scary as mine\n",
            "'Cause she's so much cuter than I am\n",
            "She's so much cuter than I am\n",
            "(Oh!)\n",
            "Trippin', trip-trippin', trip-trippin'\n",
            "Trippin', trip-trippin', trip-trippin'\n",
            "Trippin', trip-trippin', trip-trippin'\n",
            "I can't say anything to your face\n",
            "'Cause look at her\n",
            "And her tits are as big as my bed\n",
            "And her face is just as scary as mine\n",
            "'Cause she's so much cuter than I am\n",
            "She's so much cuter than I am\n",
            "(Oh!)\n",
            "Trippin', trip-trippin', trip-trippin'\n",
            "Trippin', trip-trippin', trip-trippin'\n",
            "Trippin', trip-trippin', trip-trippin'\n",
            "(Oh!)\n",
            "Trippin', trip-trippin', trip-trippin'\n",
            "Trippin', trip-trippin', trip-trippin'\n",
            "Trippin', trip-tripp\n"
          ],
          "name": "stdout"
        }
      ]
    }
  ]
}