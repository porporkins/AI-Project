{
  "nbformat": 4,
  "nbformat_minor": 0,
  "metadata": {
    "colab": {
      "name": "TYY TF2 - Lyrics Word RNN.ipynb",
      "provenance": [],
      "collapsed_sections": [],
      "toc_visible": true,
      "machine_shape": "hm",
      "include_colab_link": true
    },
    "kernelspec": {
      "name": "python3",
      "display_name": "Python 3"
    },
    "accelerator": "GPU"
  },
  "cells": [
    {
      "cell_type": "markdown",
      "metadata": {
        "id": "view-in-github",
        "colab_type": "text"
      },
      "source": [
        "<a href=\"https://colab.research.google.com/github/tohyongyao/AI-Project/blob/master/TYY_TF2_Lyrics_Word_RNN.ipynb\" target=\"_parent\"><img src=\"https://colab.research.google.com/assets/colab-badge.svg\" alt=\"Open In Colab\"/></a>"
      ]
    },
    {
      "cell_type": "markdown",
      "metadata": {
        "id": "ypCmfsPnt0pf",
        "colab_type": "text"
      },
      "source": [
        "## Song Lyrics Generator\n",
        "\n",
        "The objective of this project is to generate Taylor Swift song lyrics through the use of RNN.\n",
        "\n",
        "Dataset: https://www.kaggle.com/PromptCloudHQ/taylor-swift-song-lyrics-from-all-the-albums\n",
        "\n"
      ]
    },
    {
      "cell_type": "code",
      "metadata": {
        "id": "8-HggbzeDPHY",
        "colab_type": "code",
        "colab": {}
      },
      "source": [
        "%tensorflow_version 2.x"
      ],
      "execution_count": 0,
      "outputs": []
    },
    {
      "cell_type": "code",
      "metadata": {
        "id": "XtNQUXTxhmwp",
        "colab_type": "code",
        "colab": {
          "base_uri": "https://localhost:8080/",
          "height": 34
        },
        "outputId": "bd3d7581-8dcf-4106-898c-9cd03f8c4731"
      },
      "source": [
        "# Testing for GPU\n",
        "\n",
        "import tensorflow as tf\n",
        "device_name = tf.test.gpu_device_name()\n",
        "if device_name != '/device:GPU:0':\n",
        "  raise SystemError('GPU device not found')\n",
        "print('Found GPU at: {}'.format(device_name))"
      ],
      "execution_count": 1,
      "outputs": [
        {
          "output_type": "stream",
          "text": [
            "Found GPU at: /device:GPU:0\n"
          ],
          "name": "stdout"
        }
      ]
    },
    {
      "cell_type": "code",
      "metadata": {
        "id": "3w22IthkPiwu",
        "colab_type": "code",
        "outputId": "5bf67d2a-8072-48c1-9e9b-756a8ca9ef57",
        "colab": {
          "base_uri": "https://localhost:8080/",
          "height": 286
        }
      },
      "source": [
        "!nvidia-smi"
      ],
      "execution_count": 2,
      "outputs": [
        {
          "output_type": "stream",
          "text": [
            "Tue Apr 14 07:11:10 2020       \n",
            "+-----------------------------------------------------------------------------+\n",
            "| NVIDIA-SMI 440.64.00    Driver Version: 418.67       CUDA Version: 10.1     |\n",
            "|-------------------------------+----------------------+----------------------+\n",
            "| GPU  Name        Persistence-M| Bus-Id        Disp.A | Volatile Uncorr. ECC |\n",
            "| Fan  Temp  Perf  Pwr:Usage/Cap|         Memory-Usage | GPU-Util  Compute M. |\n",
            "|===============================+======================+======================|\n",
            "|   0  Tesla P100-PCIE...  Off  | 00000000:00:04.0 Off |                    0 |\n",
            "| N/A   43C    P0    35W / 250W |    353MiB / 16280MiB |      0%      Default |\n",
            "+-------------------------------+----------------------+----------------------+\n",
            "                                                                               \n",
            "+-----------------------------------------------------------------------------+\n",
            "| Processes:                                                       GPU Memory |\n",
            "|  GPU       PID   Type   Process name                             Usage      |\n",
            "|=============================================================================|\n",
            "+-----------------------------------------------------------------------------+\n"
          ],
          "name": "stdout"
        }
      ]
    },
    {
      "cell_type": "markdown",
      "metadata": {
        "id": "TNg93pLu0mVK",
        "colab_type": "text"
      },
      "source": [
        "## Bootstrapping\n",
        "\n",
        "Import colab_helper"
      ]
    },
    {
      "cell_type": "code",
      "metadata": {
        "id": "Mq_BceINUUPo",
        "colab_type": "code",
        "outputId": "3e42dddd-1025-4c28-ac08-1e7497c4c296",
        "colab": {
          "base_uri": "https://localhost:8080/",
          "height": 165
        }
      },
      "source": [
        "! git clone https://github.com/mdda/colab_helper\n",
        "from colab_helper import utils as chu"
      ],
      "execution_count": 3,
      "outputs": [
        {
          "output_type": "stream",
          "text": [
            "Cloning into 'colab_helper'...\n",
            "remote: Enumerating objects: 277, done.\u001b[K\n",
            "Receiving objects:   0% (1/277)   \rReceiving objects:   1% (3/277)   \rReceiving objects:   2% (6/277)   \rReceiving objects:   3% (9/277)   \rReceiving objects:   4% (12/277)   \rReceiving objects:   5% (14/277)   \rReceiving objects:   6% (17/277)   \rReceiving objects:   7% (20/277)   \rReceiving objects:   8% (23/277)   \rReceiving objects:   9% (25/277)   \rReceiving objects:  10% (28/277)   \rReceiving objects:  11% (31/277)   \rReceiving objects:  12% (34/277)   \rReceiving objects:  13% (37/277)   \rReceiving objects:  14% (39/277)   \rReceiving objects:  15% (42/277)   \rReceiving objects:  16% (45/277)   \rReceiving objects:  17% (48/277)   \rReceiving objects:  18% (50/277)   \rReceiving objects:  19% (53/277)   \rReceiving objects:  20% (56/277)   \rReceiving objects:  21% (59/277)   \rReceiving objects:  22% (61/277)   \rReceiving objects:  23% (64/277)   \rReceiving objects:  24% (67/277)   \rReceiving objects:  25% (70/277)   \rReceiving objects:  26% (73/277)   \rReceiving objects:  27% (75/277)   \rReceiving objects:  28% (78/277)   \rReceiving objects:  29% (81/277)   \rReceiving objects:  30% (84/277)   \rReceiving objects:  31% (86/277)   \rReceiving objects:  32% (89/277)   \rReceiving objects:  33% (92/277)   \rReceiving objects:  34% (95/277)   \rReceiving objects:  35% (97/277)   \rReceiving objects:  36% (100/277)   \rReceiving objects:  37% (103/277)   \rReceiving objects:  38% (106/277)   \rReceiving objects:  39% (109/277)   \rReceiving objects:  40% (111/277)   \rReceiving objects:  41% (114/277)   \rReceiving objects:  42% (117/277)   \rReceiving objects:  43% (120/277)   \rReceiving objects:  44% (122/277)   \rReceiving objects:  45% (125/277)   \rReceiving objects:  46% (128/277)   \rReceiving objects:  47% (131/277)   \rReceiving objects:  48% (133/277)   \rremote: Total 277 (delta 0), reused 0 (delta 0), pack-reused 277\u001b[K\n",
            "Receiving objects:  49% (136/277)   \rReceiving objects:  50% (139/277)   \rReceiving objects:  51% (142/277)   \rReceiving objects:  52% (145/277)   \rReceiving objects:  53% (147/277)   \rReceiving objects:  54% (150/277)   \rReceiving objects:  55% (153/277)   \rReceiving objects:  56% (156/277)   \rReceiving objects:  57% (158/277)   \rReceiving objects:  58% (161/277)   \rReceiving objects:  59% (164/277)   \rReceiving objects:  60% (167/277)   \rReceiving objects:  61% (169/277)   \rReceiving objects:  62% (172/277)   \rReceiving objects:  63% (175/277)   \rReceiving objects:  64% (178/277)   \rReceiving objects:  65% (181/277)   \rReceiving objects:  66% (183/277)   \rReceiving objects:  67% (186/277)   \rReceiving objects:  68% (189/277)   \rReceiving objects:  69% (192/277)   \rReceiving objects:  70% (194/277)   \rReceiving objects:  71% (197/277)   \rReceiving objects:  72% (200/277)   \rReceiving objects:  73% (203/277)   \rReceiving objects:  74% (205/277)   \rReceiving objects:  75% (208/277)   \rReceiving objects:  76% (211/277)   \rReceiving objects:  77% (214/277)   \rReceiving objects:  78% (217/277)   \rReceiving objects:  79% (219/277)   \rReceiving objects:  80% (222/277)   \rReceiving objects:  81% (225/277)   \rReceiving objects:  82% (228/277)   \rReceiving objects:  83% (230/277)   \rReceiving objects:  84% (233/277)   \rReceiving objects:  85% (236/277)   \rReceiving objects:  86% (239/277)   \rReceiving objects:  87% (241/277)   \rReceiving objects:  88% (244/277)   \rReceiving objects:  89% (247/277)   \rReceiving objects:  90% (250/277)   \rReceiving objects:  91% (253/277)   \rReceiving objects:  92% (255/277)   \rReceiving objects:  93% (258/277)   \rReceiving objects:  94% (261/277)   \rReceiving objects:  95% (264/277)   \rReceiving objects:  96% (266/277)   \rReceiving objects:  97% (269/277)   \rReceiving objects:  98% (272/277)   \rReceiving objects:  99% (275/277)   \rReceiving objects: 100% (277/277)   \rReceiving objects: 100% (277/277), 56.17 KiB | 2.96 MiB/s, done.\n",
            "Resolving deltas:   0% (0/170)   \rResolving deltas:   4% (7/170)   \rResolving deltas:  14% (25/170)   \rResolving deltas:  25% (43/170)   \rResolving deltas:  57% (97/170)   \rResolving deltas:  71% (122/170)   \rResolving deltas:  73% (125/170)   \rResolving deltas:  76% (130/170)   \rResolving deltas: 100% (170/170)   \rResolving deltas: 100% (170/170), done.\n"
          ],
          "name": "stdout"
        },
        {
          "output_type": "display_data",
          "data": {
            "image/png": "[encoded data removed]",
            "text/plain": [
              "<Figure size 432x288 with 1 Axes>"
            ]
          },
          "metadata": {
            "tags": [],
            "needs_background": "light"
          }
        }
      ]
    },
    {
      "cell_type": "markdown",
      "metadata": {
        "id": "dqEYLJirXVIq",
        "colab_type": "text"
      },
      "source": [
        "Mount Google Drive"
      ]
    },
    {
      "cell_type": "code",
      "metadata": {
        "id": "4sGEZ81EXYBT",
        "colab_type": "code",
        "outputId": "a6b4a486-a7b0-4090-de51-82b02be0a725",
        "colab": {
          "base_uri": "https://localhost:8080/",
          "height": 138
        }
      },
      "source": [
        "chu.gdrive_mount(point='gdrive', link='my_drive')"
      ],
      "execution_count": 4,
      "outputs": [
        {
          "output_type": "stream",
          "text": [
            "Go to this URL in a browser: https://accounts.google.com/o/oauth2/auth?client_id=947318989803-6bn6qk8qdgf4n4g3pfee6491hc0brc4i.apps.googleusercontent.com&redirect_uri=urn%3aietf%3awg%3aoauth%3a2.0%3aoob&response_type=code&scope=email%20https%3a%2f%2fwww.googleapis.com%2fauth%2fdocs.test%20https%3a%2f%2fwww.googleapis.com%2fauth%2fdrive%20https%3a%2f%2fwww.googleapis.com%2fauth%2fdrive.photos.readonly%20https%3a%2f%2fwww.googleapis.com%2fauth%2fpeopleapi.readonly\n",
            "\n",
            "Enter your authorization code:\n",
            "··········\n",
            "Mounted at gdrive\n",
            "'gdrive/My Drive' mounted as 'my_drive'\n"
          ],
          "name": "stdout"
        }
      ]
    },
    {
      "cell_type": "markdown",
      "metadata": {
        "id": "_H4X08wkXSUr",
        "colab_type": "text"
      },
      "source": [
        "Login to Kaggle"
      ]
    },
    {
      "cell_type": "code",
      "metadata": {
        "id": "gt001Bp6XMap",
        "colab_type": "code",
        "outputId": "fba1d431-c6f1-42fb-f353-58fefc6f0a74",
        "colab": {
          "base_uri": "https://localhost:8080/",
          "height": 218
        }
      },
      "source": [
        "! pip install kaggle\n",
        "chu.kaggle_credentials(file='./my_drive/Colab Notebooks/kaggle.json')"
      ],
      "execution_count": 5,
      "outputs": [
        {
          "output_type": "stream",
          "text": [
            "Requirement already satisfied: kaggle in /usr/local/lib/python3.6/dist-packages (1.5.6)\n",
            "Requirement already satisfied: urllib3<1.25,>=1.21.1 in /usr/local/lib/python3.6/dist-packages (from kaggle) (1.24.3)\n",
            "Requirement already satisfied: python-slugify in /usr/local/lib/python3.6/dist-packages (from kaggle) (4.0.0)\n",
            "Requirement already satisfied: requests in /usr/local/lib/python3.6/dist-packages (from kaggle) (2.21.0)\n",
            "Requirement already satisfied: python-dateutil in /usr/local/lib/python3.6/dist-packages (from kaggle) (2.8.1)\n",
            "Requirement already satisfied: six>=1.10 in /usr/local/lib/python3.6/dist-packages (from kaggle) (1.12.0)\n",
            "Requirement already satisfied: tqdm in /usr/local/lib/python3.6/dist-packages (from kaggle) (4.38.0)\n",
            "Requirement already satisfied: certifi in /usr/local/lib/python3.6/dist-packages (from kaggle) (2020.4.5.1)\n",
            "Requirement already satisfied: text-unidecode>=1.3 in /usr/local/lib/python3.6/dist-packages (from python-slugify->kaggle) (1.3)\n",
            "Requirement already satisfied: idna<2.9,>=2.5 in /usr/local/lib/python3.6/dist-packages (from requests->kaggle) (2.8)\n",
            "Requirement already satisfied: chardet<3.1.0,>=3.0.2 in /usr/local/lib/python3.6/dist-packages (from requests->kaggle) (3.0.4)\n",
            "Credentials written to /root/.kaggle/kaggle.json\n"
          ],
          "name": "stdout"
        }
      ]
    },
    {
      "cell_type": "markdown",
      "metadata": {
        "id": "aZOJYJ6ac9j_",
        "colab_type": "text"
      },
      "source": [
        "Download Dataset from Kaggle"
      ]
    },
    {
      "cell_type": "code",
      "metadata": {
        "id": "LA7_Y1q8c7vr",
        "colab_type": "code",
        "outputId": "1af59e8c-358f-4828-aadc-43abd5f6bb8f",
        "colab": {
          "base_uri": "https://localhost:8080/",
          "height": 67
        }
      },
      "source": [
        "! kaggle datasets download -d PromptCloudHQ/taylor-swift-song-lyrics-from-all-the-albums"
      ],
      "execution_count": 6,
      "outputs": [
        {
          "output_type": "stream",
          "text": [
            "Downloading taylor-swift-song-lyrics-from-all-the-albums.zip to /content\n",
            "\r  0% 0.00/68.7k [00:00<?, ?B/s]\n",
            "\r100% 68.7k/68.7k [00:00<00:00, 27.2MB/s]\n"
          ],
          "name": "stdout"
        }
      ]
    },
    {
      "cell_type": "code",
      "metadata": {
        "id": "76DTvYQeFO_s",
        "colab_type": "code",
        "outputId": "55a07ddf-3ddb-4f0d-e194-2be34cb201dc",
        "colab": {
          "base_uri": "https://localhost:8080/",
          "height": 50
        }
      },
      "source": [
        "!unzip taylor-swift-song-lyrics-from-all-the-albums.zip"
      ],
      "execution_count": 7,
      "outputs": [
        {
          "output_type": "stream",
          "text": [
            "Archive:  taylor-swift-song-lyrics-from-all-the-albums.zip\n",
            "  inflating: taylor_swift_lyrics.csv  \n"
          ],
          "name": "stdout"
        }
      ]
    },
    {
      "cell_type": "markdown",
      "metadata": {
        "id": "Nca6QWdsbV-J",
        "colab_type": "text"
      },
      "source": [
        "## Imports"
      ]
    },
    {
      "cell_type": "code",
      "metadata": {
        "id": "p6jD7LxMiS_L",
        "colab_type": "code",
        "colab": {
          "base_uri": "https://localhost:8080/",
          "height": 151
        },
        "outputId": "70b70722-fda8-4a8e-8cc6-afd2b90b59dc"
      },
      "source": [
        "pip install --upgrade keras"
      ],
      "execution_count": 10,
      "outputs": [
        {
          "output_type": "stream",
          "text": [
            "Requirement already up-to-date: keras in /usr/local/lib/python3.6/dist-packages (2.3.1)\n",
            "Requirement already satisfied, skipping upgrade: h5py in /usr/local/lib/python3.6/dist-packages (from keras) (2.10.0)\n",
            "Requirement already satisfied, skipping upgrade: keras-applications>=1.0.6 in /usr/local/lib/python3.6/dist-packages (from keras) (1.0.8)\n",
            "Requirement already satisfied, skipping upgrade: pyyaml in /usr/local/lib/python3.6/dist-packages (from keras) (3.13)\n",
            "Requirement already satisfied, skipping upgrade: keras-preprocessing>=1.0.5 in /usr/local/lib/python3.6/dist-packages (from keras) (1.1.0)\n",
            "Requirement already satisfied, skipping upgrade: six>=1.9.0 in /usr/local/lib/python3.6/dist-packages (from keras) (1.12.0)\n",
            "Requirement already satisfied, skipping upgrade: numpy>=1.9.1 in /usr/local/lib/python3.6/dist-packages (from keras) (1.18.2)\n",
            "Requirement already satisfied, skipping upgrade: scipy>=0.14 in /usr/local/lib/python3.6/dist-packages (from keras) (1.4.1)\n"
          ],
          "name": "stdout"
        }
      ]
    },
    {
      "cell_type": "code",
      "metadata": {
        "id": "TuHMq4OCPjAl",
        "colab_type": "code",
        "outputId": "a469a799-a01a-4a25-fa53-dbb31cc7290b",
        "colab": {
          "base_uri": "https://localhost:8080/",
          "height": 34
        }
      },
      "source": [
        "from tensorflow.keras.callbacks import LambdaCallback, ModelCheckpoint\n",
        "\n",
        "from tensorflow.keras.models import Sequential\n",
        "from tensorflow.keras.layers import Dense, Activation\n",
        "from tensorflow.keras.layers import LSTM\n",
        "from tensorflow.keras.optimizers import RMSprop\n",
        "from keras.utils.data_utils import get_file\n",
        "\n",
        "import tensorflow as tf\n",
        "import numpy as np\n",
        "import random\n",
        "import sys\n",
        "import pandas as pd"
      ],
      "execution_count": 12,
      "outputs": [
        {
          "output_type": "stream",
          "text": [
            "Using TensorFlow backend.\n"
          ],
          "name": "stderr"
        }
      ]
    },
    {
      "cell_type": "code",
      "metadata": {
        "id": "MVlD1xNDcp_w",
        "colab_type": "code",
        "outputId": "fd12f25a-7f75-44d4-af35-f6963e8dbfea",
        "colab": {
          "base_uri": "https://localhost:8080/",
          "height": 50
        }
      },
      "source": [
        "print(tf.keras.__version__)\n",
        "print(tf.__version__)"
      ],
      "execution_count": 9,
      "outputs": [
        {
          "output_type": "stream",
          "text": [
            "2.3.0-tf\n",
            "2.2.0-rc2\n"
          ],
          "name": "stdout"
        }
      ]
    },
    {
      "cell_type": "markdown",
      "metadata": {
        "id": "PbeyqAJd0pfq",
        "colab_type": "text"
      },
      "source": [
        "## Load Dataset"
      ]
    },
    {
      "cell_type": "code",
      "metadata": {
        "id": "IiWLCGyvGkCO",
        "colab_type": "code",
        "colab": {}
      },
      "source": [
        "dataset = pd.read_csv('taylor_swift_lyrics.csv',encoding = \"latin1\")"
      ],
      "execution_count": 0,
      "outputs": []
    },
    {
      "cell_type": "markdown",
      "metadata": {
        "id": "SyGyA-1W1WRR",
        "colab_type": "text"
      },
      "source": [
        "# Preprocess the lyrics"
      ]
    },
    {
      "cell_type": "code",
      "metadata": {
        "id": "b5jdbwqlv3NH",
        "colab_type": "code",
        "outputId": "71d613ff-05d6-4e33-b680-47a4bd59ca90",
        "colab": {
          "base_uri": "https://localhost:8080/",
          "height": 50
        }
      },
      "source": [
        "# Get all lyrics\n",
        "lyrics = dataset['lyric'].tolist() \n",
        "\n",
        "# combine and convert to lower case\n",
        "lyrics_text = ''\n",
        "for i in lyrics: \n",
        "  lyrics_text += i.lower() + ' ' \n",
        "\n",
        "print('Lyrics length:', len(lyrics_text))\n",
        "print(lyrics_text[:50])"
      ],
      "execution_count": 14,
      "outputs": [
        {
          "output_type": "stream",
          "text": [
            "Lyrics length: 173604\n",
            "he said the way my blue eyes shined put those geor\n"
          ],
          "name": "stdout"
        }
      ]
    },
    {
      "cell_type": "code",
      "metadata": {
        "id": "OHLz4sesULoo",
        "colab_type": "code",
        "outputId": "265e888f-f52d-4d8b-e3d0-5f9286622701",
        "colab": {
          "base_uri": "https://localhost:8080/",
          "height": 70
        }
      },
      "source": [
        "chars = sorted(list(set(lyrics_text)))\n",
        "\n",
        "# make look up tables\n",
        "char_indices = dict((c, i) for i, c in enumerate(chars))\n",
        "indices_char = dict((i, c) for i, c in enumerate(chars))\n",
        "\n",
        "print('Number of unique chars:', len(chars))\n",
        "print(chars)"
      ],
      "execution_count": 15,
      "outputs": [
        {
          "output_type": "stream",
          "text": [
            "Number of unique chars: 57\n",
            "[' ', '!', '\"', '&', \"'\", '(', ')', '+', ',', '-', '.', '0', '1', '2', '3', '4', '5', '7', '8', '9', ':', ';', '<', '>', '?', 'a', 'b', 'c', 'd', 'e', 'f', 'g', 'h', 'i', 'j', 'k', 'l', 'm', 'n', 'o', 'p', 'q', 'r', 's', 't', 'u', 'v', 'w', 'x', 'y', 'z', '\\x85', '\\x91', '\\x93', '\\x94', '\\x96', '\\x97']\n"
          ],
          "name": "stdout"
        }
      ]
    },
    {
      "cell_type": "code",
      "metadata": {
        "id": "oKYGQeiE4bZC",
        "colab_type": "code",
        "outputId": "3baf5a88-b8bd-4c6c-8e53-12295d01364a",
        "colab": {
          "base_uri": "https://localhost:8080/",
          "height": 34
        }
      },
      "source": [
        "# cut the text in semi-redundant sequences of maxlen characters\n",
        "maxlen = 100\n",
        "step = 3\n",
        "\n",
        "lyrics_lines = []\n",
        "next_chars = []\n",
        "\n",
        "for i in range(0, len(lyrics_text) - maxlen, step):\n",
        "    lyrics_lines.append(lyrics_text[i: i + maxlen])\n",
        "    next_chars.append(lyrics_text[i + maxlen])\n",
        "print('nb sequences:', len(lyrics_lines))"
      ],
      "execution_count": 16,
      "outputs": [
        {
          "output_type": "stream",
          "text": [
            "nb sequences: 57835\n"
          ],
          "name": "stdout"
        }
      ]
    },
    {
      "cell_type": "code",
      "metadata": {
        "id": "SyInEpHvPv7k",
        "colab_type": "code",
        "colab": {}
      },
      "source": [
        "# vectorizing the sentences: characters in One Hot Encode (OHE) out\n",
        "x = np.zeros((len(lyrics_lines), maxlen, len(chars)), dtype=np.bool)\n",
        "y = np.zeros((len(lyrics_lines), len(chars)), dtype=np.bool)\n",
        "for i, lyrics_line in enumerate(lyrics_lines):\n",
        "    for t, char in enumerate(lyrics_line):\n",
        "        x[i, t, char_indices[char]] = 1\n",
        "    y[i, char_indices[next_chars[i]]] = 1"
      ],
      "execution_count": 0,
      "outputs": []
    },
    {
      "cell_type": "code",
      "metadata": {
        "id": "uBruBLpmRAna",
        "colab_type": "code",
        "outputId": "26f3ef55-d7e1-47d7-9172-b0ab1b6e958e",
        "colab": {
          "base_uri": "https://localhost:8080/",
          "height": 34
        }
      },
      "source": [
        "x.shape"
      ],
      "execution_count": 22,
      "outputs": [
        {
          "output_type": "execute_result",
          "data": {
            "text/plain": [
              "(57835, 100, 57)"
            ]
          },
          "metadata": {
            "tags": []
          },
          "execution_count": 22
        }
      ]
    },
    {
      "cell_type": "code",
      "metadata": {
        "id": "1clijScuRUnB",
        "colab_type": "code",
        "outputId": "979713ee-0d0e-4961-a13c-9cde8955dc4f",
        "colab": {
          "base_uri": "https://localhost:8080/",
          "height": 134
        }
      },
      "source": [
        "x[0,0,:]"
      ],
      "execution_count": 19,
      "outputs": [
        {
          "output_type": "execute_result",
          "data": {
            "text/plain": [
              "array([False, False, False, False, False, False, False, False, False,\n",
              "       False, False, False, False, False, False, False, False, False,\n",
              "       False, False, False, False, False, False, False, False, False,\n",
              "       False, False, False, False, False,  True, False, False, False,\n",
              "       False, False, False, False, False, False, False, False, False,\n",
              "       False, False, False, False, False, False, False, False, False,\n",
              "       False, False, False])"
            ]
          },
          "metadata": {
            "tags": []
          },
          "execution_count": 19
        }
      ]
    },
    {
      "cell_type": "markdown",
      "metadata": {
        "id": "NrVeytJ2ZZ2Q",
        "colab_type": "text"
      },
      "source": [
        "## Building the model\n"
      ]
    },
    {
      "cell_type": "code",
      "metadata": {
        "id": "lkjUV-hkPwHR",
        "colab_type": "code",
        "colab": {}
      },
      "source": [
        "# build the model: 2 LSTM layers\n",
        "model = Sequential()\n",
        "num_nodes = 128\n",
        "model.add(LSTM(128, activation='tanh', recurrent_activation='sigmoid', input_shape=(maxlen, len(chars)), return_sequences=True))\n",
        "model.add(LSTM(128))\n",
        "model.add(Dense(len(chars))) # output layer\n",
        "model.add(Activation('softmax'))"
      ],
      "execution_count": 0,
      "outputs": []
    },
    {
      "cell_type": "code",
      "metadata": {
        "id": "hMU6lsPcPwO9",
        "colab_type": "code",
        "colab": {}
      },
      "source": [
        "optimizer = RMSprop(lr=0.01)\n",
        "model.compile(loss='categorical_crossentropy', optimizer=optimizer) # loss and optimizer"
      ],
      "execution_count": 0,
      "outputs": []
    },
    {
      "cell_type": "code",
      "metadata": {
        "id": "ZGCpe7zzzAsB",
        "colab_type": "code",
        "outputId": "9509d78d-6ac2-469f-f87a-ed4a27934af5",
        "colab": {
          "base_uri": "https://localhost:8080/",
          "height": 286
        }
      },
      "source": [
        "model.summary()"
      ],
      "execution_count": 36,
      "outputs": [
        {
          "output_type": "stream",
          "text": [
            "Model: \"sequential_6\"\n",
            "_________________________________________________________________\n",
            "Layer (type)                 Output Shape              Param #   \n",
            "=================================================================\n",
            "lstm_12 (LSTM)               (None, 100, 128)          95232     \n",
            "_________________________________________________________________\n",
            "lstm_13 (LSTM)               (None, 128)               131584    \n",
            "_________________________________________________________________\n",
            "dense_2 (Dense)              (None, 57)                7353      \n",
            "_________________________________________________________________\n",
            "activation_2 (Activation)    (None, 57)                0         \n",
            "=================================================================\n",
            "Total params: 234,169\n",
            "Trainable params: 234,169\n",
            "Non-trainable params: 0\n",
            "_________________________________________________________________\n"
          ],
          "name": "stdout"
        }
      ]
    },
    {
      "cell_type": "markdown",
      "metadata": {
        "id": "IcI8qLxL02Nb",
        "colab_type": "text"
      },
      "source": [
        "## Sampling some text from the model\n",
        "\n",
        "Reused helper functions from the Char RNN example."
      ]
    },
    {
      "cell_type": "code",
      "metadata": {
        "id": "yLhxcB13P4Tf",
        "colab_type": "code",
        "colab": {}
      },
      "source": [
        "def sample(preds, temperature=1.0):\n",
        "    # helper function to sample an index from a probability array\n",
        "    preds = np.asarray(preds).astype('float64')\n",
        "    preds = np.log(preds) / temperature\n",
        "    exp_preds = np.exp(preds)\n",
        "    preds = exp_preds / np.sum(exp_preds)\n",
        "    probas = np.random.multinomial(1, preds, 1)\n",
        "    return np.argmax(probas)"
      ],
      "execution_count": 0,
      "outputs": []
    },
    {
      "cell_type": "code",
      "metadata": {
        "id": "2vMGH6wAP4hm",
        "colab_type": "code",
        "colab": {}
      },
      "source": [
        "def on_epoch_end(epoch, logs):\n",
        "    # Function invoked at end of each epoch. Prints generated text.\n",
        "    print()\n",
        "    if epoch % 10 > 0:\n",
        "      return\n",
        "    print('----- Generating text after Epoch: %d' % epoch)\n",
        "\n",
        "    start_index = random.randint(0, len(lyrics_text) - maxlen - 1)\n",
        "    for diversity in [0.2, 0.5, 1.0, 1.2]:\n",
        "        print('----- diversity:', diversity)\n",
        "\n",
        "        generated = ''\n",
        "        sentence = lyrics_text[start_index: start_index + maxlen]\n",
        "        generated += sentence\n",
        "        print('----- Generating with seed: \"' + sentence + '\"')\n",
        "        sys.stdout.write(generated)\n",
        "\n",
        "        for i in range(400):\n",
        "            x_pred = np.zeros((1, maxlen, len(chars)))\n",
        "            for t, char in enumerate(sentence):\n",
        "                x_pred[0, t, char_indices[char]] = 1.\n",
        "\n",
        "            preds = model.predict(x_pred, verbose=0)[0]\n",
        "            next_index = sample(preds, diversity)\n",
        "            next_char = indices_char[next_index]\n",
        "\n",
        "            generated += next_char\n",
        "            sentence = sentence[1:] + next_char\n",
        "\n",
        "            sys.stdout.write(next_char)\n",
        "            sys.stdout.flush()\n",
        "        print()"
      ],
      "execution_count": 0,
      "outputs": []
    },
    {
      "cell_type": "markdown",
      "metadata": {
        "id": "QJ0d7unEfLIS",
        "colab_type": "text"
      },
      "source": [
        "## Callback functions"
      ]
    },
    {
      "cell_type": "code",
      "metadata": {
        "id": "IbvddKT-QAeq",
        "colab_type": "code",
        "colab": {}
      },
      "source": [
        "print_callback = LambdaCallback(on_epoch_end=on_epoch_end)\n",
        "\n",
        "# This callback will help to save the weights based on the minimum loss\n",
        "checkpoint_name = 'Weights-TSLG-{epoch:02d}-{loss:0.3f}.hdf5'\n",
        "checkpoint_callback = ModelCheckpoint(checkpoint_name, monitor='loss', verbose=0, save_best_only=True, mode='min')"
      ],
      "execution_count": 0,
      "outputs": []
    },
    {
      "cell_type": "markdown",
      "metadata": {
        "id": "HAqvFktshMDS",
        "colab_type": "text"
      },
      "source": [
        "## Train the model"
      ]
    },
    {
      "cell_type": "code",
      "metadata": {
        "id": "GhyCAF2P_Tc_",
        "colab_type": "code",
        "outputId": "58a6003c-ffbb-4d22-b2dc-ff1e2b83cb2a",
        "colab": {
          "base_uri": "https://localhost:8080/",
          "height": 810
        }
      },
      "source": [
        "model.fit(x, y,\n",
        "          batch_size=128,\n",
        "          epochs=10, #adjust the epochs as necessary\n",
        "          callbacks=[print_callback, checkpoint_callback])"
      ],
      "execution_count": 53,
      "outputs": [
        {
          "output_type": "stream",
          "text": [
            "Epoch 1/10\n",
            "451/452 [============================>.] - ETA: 0s - loss: 0.2689\n",
            "----- Generating text after Epoch: 0\n",
            "----- diversity: 0.2\n",
            "----- Generating with seed: \" high was worth the pain got a long list of ex-lovers they'll tell you i'm insane 'cause you know i \"\n",
            " high was worth the pain got a long list of ex-lovers they'll tell you i'm insane 'cause you know i love if"
          ],
          "name": "stdout"
        },
        {
          "output_type": "stream",
          "text": [
            "/usr/local/lib/python3.6/dist-packages/ipykernel_launcher.py:4: RuntimeWarning: divide by zero encountered in log\n",
            "  after removing the cwd from sys.path.\n"
          ],
          "name": "stderr"
        },
        {
          "output_type": "stream",
          "text": [
            " it goes you don't know how it goes (starlight like we're made of stand and i know places lovecs in alone and i'll be with you said 'cause i'd gate 'ss, you are is mange on hall you talk me around when we donckess i don't know how it goes (starts i could but no one things? like right you ve stay when the nathing that we said hello and your eyes look like mad deep the phone this is the last \n",
            "----- diversity: 0.5\n",
            "----- Generating with seed: \" high was worth the pain got a long list of ex-lovers they'll tell you i'm insane 'cause you know i \"\n",
            " high was worth the pain got a long list of ex-lovers they'll tell you i'm insane 'cause you know i love if it doesn't want you like room to new york ween i'm burneling of your feelight i never know you so it all to tell me my frou know you are in love when you said you're fifteen and your wildfee through all alone for it? but i'm the one who unders try something my heap) and when you make the last time i'm asking you whise too what you'll know that it's delicate thinks time ouh (seemmboff you m\n",
            "----- diversity: 1.0\n",
            "----- Generating with seed: \" high was worth the pain got a long list of ex-lovers they'll tell you i'm insane 'cause you know i \"\n",
            " high was worth the pain got a long list of ex-lovers they'll tell you i'm insane 'cause you know i loved you ad me await forever and i said room you're or coading you ad when you down do you firire about something you make it off, i was the out of strands the rain and i got the girl and that's the wenes we found waited 'cause i'd never forgopest the ground i can't help me strong rough and i think i almomens now it's the first keeping lights and life me, baby) you blame ever day what you're or t\n",
            "----- diversity: 1.2\n",
            "----- Generating with seed: \" high was worth the pain got a long list of ex-lovers they'll tell you i'm insane 'cause you know i \"\n",
            " high was worth the pain got a long list of ex-lovers they'll tell you i'm insane 'cause you know i loved you i don't know about you, i'm copy as a state soon on the time as fear it gord of your side if i had it all eyes on change slaying as right here come ruin up forever and a ninell apass alone and i got the players gonna love stery good rose just kiss my nic the's, who and you put you' let the velchor i want you are forevering and we well crops out my ome avoush we were dancing but and i gir\n",
            "452/452 [==============================] - 64s 141ms/step - loss: 0.2689\n",
            "Epoch 2/10\n",
            "451/452 [============================>.] - ETA: 0s - loss: 0.2657\n",
            "452/452 [==============================] - 8s 18ms/step - loss: 0.2657\n",
            "Epoch 3/10\n",
            "451/452 [============================>.] - ETA: 0s - loss: 0.2660\n",
            "452/452 [==============================] - 8s 18ms/step - loss: 0.2660\n",
            "Epoch 4/10\n",
            "451/452 [============================>.] - ETA: 0s - loss: 0.2631\n",
            "452/452 [==============================] - 8s 18ms/step - loss: 0.2630\n",
            "Epoch 5/10\n",
            "452/452 [==============================] - ETA: 0s - loss: 0.2596\n",
            "452/452 [==============================] - 8s 18ms/step - loss: 0.2596\n",
            "Epoch 6/10\n",
            "451/452 [============================>.] - ETA: 0s - loss: 0.2562\n",
            "452/452 [==============================] - 8s 18ms/step - loss: 0.2562\n",
            "Epoch 7/10\n",
            "451/452 [============================>.] - ETA: 0s - loss: 0.2528\n",
            "452/452 [==============================] - 8s 18ms/step - loss: 0.2529\n",
            "Epoch 8/10\n",
            "451/452 [============================>.] - ETA: 0s - loss: 0.2521\n",
            "452/452 [==============================] - 8s 18ms/step - loss: 0.2522\n",
            "Epoch 9/10\n",
            "451/452 [============================>.] - ETA: 0s - loss: 0.2450\n",
            "452/452 [==============================] - 8s 18ms/step - loss: 0.2454\n",
            "Epoch 10/10\n",
            "451/452 [============================>.] - ETA: 0s - loss: 0.2396\n",
            "452/452 [==============================] - 8s 18ms/step - loss: 0.2395\n"
          ],
          "name": "stdout"
        },
        {
          "output_type": "execute_result",
          "data": {
            "text/plain": [
              "<tensorflow.python.keras.callbacks.History at 0x7fe8492fe898>"
            ]
          },
          "metadata": {
            "tags": []
          },
          "execution_count": 53
        }
      ]
    },
    {
      "cell_type": "markdown",
      "metadata": {
        "id": "wI7v48Nm4Wvs",
        "colab_type": "text"
      },
      "source": [
        "Save and load weights as necessary"
      ]
    },
    {
      "cell_type": "code",
      "metadata": {
        "id": "5BnF_LwvvDP9",
        "colab_type": "code",
        "colab": {}
      },
      "source": [
        "model.save_weights('weights.hdf5')"
      ],
      "execution_count": 0,
      "outputs": []
    },
    {
      "cell_type": "code",
      "metadata": {
        "id": "hDFifSNPyOOV",
        "colab_type": "code",
        "colab": {}
      },
      "source": [
        "model.load_weights('weights.hdf5')"
      ],
      "execution_count": 0,
      "outputs": []
    },
    {
      "cell_type": "markdown",
      "metadata": {
        "id": "dSU5VcpI3hDt",
        "colab_type": "text"
      },
      "source": [
        "## Have fun with the generator!"
      ]
    },
    {
      "cell_type": "code",
      "metadata": {
        "id": "hVdFdkht3lN0",
        "colab_type": "code",
        "colab": {}
      },
      "source": [
        "def generate_lyrics():\n",
        "  start_index = random.randint(0, len(lyrics_text) - maxlen - 1)\n",
        "  for diversity in [0.2, 0.5, 1.0, 1.2]:\n",
        "      print('----- diversity:', diversity)\n",
        "\n",
        "      generated = ''\n",
        "      sentence = lyrics_text[start_index: start_index + maxlen]\n",
        "      generated += sentence\n",
        "      print('----- Generating with seed: \"' + sentence + '\"')\n",
        "      sys.stdout.write(generated)\n",
        "\n",
        "      for i in range(400):\n",
        "          x_pred = np.zeros((1, maxlen, len(chars)))\n",
        "          for t, char in enumerate(sentence):\n",
        "              x_pred[0, t, char_indices[char]] = 1.\n",
        "\n",
        "          preds = model.predict(x_pred, verbose=0)[0]\n",
        "          next_index = sample(preds, diversity)\n",
        "          next_char = indices_char[next_index]\n",
        "\n",
        "          generated += next_char\n",
        "          sentence = sentence[1:] + next_char\n",
        "\n",
        "          sys.stdout.write(next_char)\n",
        "          sys.stdout.flush()\n",
        "      print()"
      ],
      "execution_count": 0,
      "outputs": []
    },
    {
      "cell_type": "code",
      "metadata": {
        "id": "0LjV93u034VP",
        "colab_type": "code",
        "colab": {
          "base_uri": "https://localhost:8080/",
          "height": 272
        },
        "outputId": "0e82e750-7007-4098-efc7-9c56d7fe0c98"
      },
      "source": [
        "generate_lyrics()"
      ],
      "execution_count": 54,
      "outputs": [
        {
          "output_type": "stream",
          "text": [
            "----- diversity: 0.2\n",
            "----- Generating with seed: \"n't rush into things? didn't you flash your green eyes at me? haven't you heard what becomes of curi\"\n",
            "n't rush into things? didn't you flash your green eyes at me? haven't you heard what becomes of curirs lips ju"
          ],
          "name": "stdout"
        },
        {
          "output_type": "stream",
          "text": [
            "/usr/local/lib/python3.6/dist-packages/ipykernel_launcher.py:4: RuntimeWarning: divide by zero encountered in log\n",
            "  after removing the cwd from sys.path.\n"
          ],
          "name": "stderr"
        },
        {
          "output_type": "stream",
          "text": [
            "st this ahls i can't help me in your dad dreams say you'll see me again dreams say you'll see me again dreams say you'll remembered everything in the sides like a drives away now i'm love out of everything has changed the floor afyorrying the lick about tle to me but so mack of anytell oh, who you and the careful friends dark in my realook on how that i said all that? is it too soon to t\n",
            "----- diversity: 0.5\n",
            "----- Generating with seed: \"n't rush into things? didn't you flash your green eyes at me? haven't you heard what becomes of curi\"\n",
            "n't rush into things? didn't you flash your green eyes at me? haven't you heard what becomes of curirs lips just through the srees liht miss forever and ever (and i said rookd and he's the best thing she's pict perfect, been the sides are jeden thein little dancing to let it got a little shame on me how i could be a resalight andtelo you think that it's slace together will to hold on the ground i was ffeeling to fit in a mine anent gone things that they everything who mear when i could fall) (ri\n",
            "----- diversity: 1.0\n",
            "----- Generating with seed: \"n't rush into things? didn't you flash your green eyes at me? haven't you heard what becomes of curi\"\n",
            "n't rush into things? didn't you flash your green eyes at me? haven't you heard what becomes of curirs lips just through the srend i don't wanna do igart 'cause i got that little put in, pitthes same? should've been there, in the biting in the  all thate eyes wrong to the aplone the rusters, we are the best thing this is hi, is wisally but i'm just a screamin' be here and a liard of this moun, i wish you would, she shi, this is as (staringed to come back en) and i take the saw you so, we us hear\n",
            "----- diversity: 1.2\n",
            "----- Generating with seed: \"n't rush into things? didn't you flash your green eyes at me? haven't you heard what becomes of curi\"\n",
            "n't rush into things? didn't you flash your green eyes at me? haven't you heard what becomes of curirs lips just i could like a best this is thing that you would it wishing you were love to crown it on the hall the over will you ever been shange waiting down that the crowts and i know is i know i know comes to crown, the first to know is everything handsle drives i know is pict you can't see it thrich you would, she things ooh, you showe, and you munning dows that i don't know how i could say, \"\n"
          ],
          "name": "stdout"
        }
      ]
    },
    {
      "cell_type": "markdown",
      "metadata": {
        "id": "KqkOmiew4KVN",
        "colab_type": "text"
      },
      "source": [
        "## Conclusion\n",
        "\n",
        "The generator would occasionally churn out phrases that look like song lyrics but does not perform as well as expected. Many spelling errors and incoherent punctuations. "
      ]
    }
  ]
}